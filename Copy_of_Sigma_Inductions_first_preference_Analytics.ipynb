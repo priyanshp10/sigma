{
  "cells": [
    {
      "cell_type": "markdown",
      "metadata": {
        "id": "CYRdP2ChLZIg"
      },
      "source": [
        "# **Getting Started with Google Colab:**\n",
        "\n",
        "The document you are reading is not a static web page, but an interactive environment called a **Colab notebook** that lets you write and execute code.\n"
      ]
    },
    {
      "cell_type": "markdown",
      "metadata": {
        "id": "xt5dsAABLeH2"
      },
      "source": [
        "For example, here is a **code cell** with a short Python script that computes a value, stores it in a variable, and prints the result:"
      ]
    },
    {
      "cell_type": "code",
      "execution_count": null,
      "metadata": {
        "colab": {
          "base_uri": "https://localhost:8080/"
        },
        "id": "R7xwhbnaMBAu",
        "outputId": "7e3d2b96-3d1c-46ab-adfd-ac779961f608"
      },
      "outputs": [
        {
          "data": {
            "text/plain": [
              "86400"
            ]
          },
          "execution_count": 3,
          "metadata": {},
          "output_type": "execute_result"
        }
      ],
      "source": [
        "seconds_in_a_day = 24 * 60 * 60\n",
        "seconds_in_a_day"
      ]
    },
    {
      "cell_type": "markdown",
      "metadata": {
        "id": "6yALpgvXMLnO"
      },
      "source": [
        "To execute the code in the above cell, select it with a click and then either press the play button to the left of the code, or use the keyboard shortcut \"Command/Ctrl+Enter\". To edit the code, just click the cell and start editing."
      ]
    },
    {
      "cell_type": "markdown",
      "metadata": {
        "id": "6l2KYldQMPlu"
      },
      "source": [
        "Variables that you define in one cell can later be used in other cells:"
      ]
    },
    {
      "cell_type": "code",
      "execution_count": null,
      "metadata": {
        "colab": {
          "base_uri": "https://localhost:8080/"
        },
        "id": "dVF9RSQbMRaf",
        "outputId": "20b93bc2-8830-400a-c49f-ffa32de64567"
      },
      "outputs": [
        {
          "data": {
            "text/plain": [
              "604800"
            ]
          },
          "execution_count": 4,
          "metadata": {},
          "output_type": "execute_result"
        }
      ],
      "source": [
        "seconds_in_a_week = 7 * seconds_in_a_day\n",
        "seconds_in_a_week"
      ]
    },
    {
      "cell_type": "markdown",
      "metadata": {
        "id": "jaVB_hXHMahP"
      },
      "source": [
        "Colab notebooks allow us to combine **executable code** and **rich text** in a single document, along with **images**, **HTML**, and more. When you create your own Colab notebooks, they are stored in your Google Drive account. You can easily share your Colab notebooks with collaborators, allowing them to comment on your notebooks or even edit them. \n",
        "- To learn more, see [Overview of Colab](/notebooks/basic_features_overview.ipynb). \n",
        "- To create a new Colab notebook you can use the File menu above, or use the following link: [create a new Colab notebook](http://colab.research.google.com#create=true).\n",
        "\n",
        "*Colab notebooks are Jupyter notebooks that are hosted by Colab. To learn more about the Jupyter project, see [jupyter.org](https://www.jupyter.org).*"
      ]
    },
    {
      "cell_type": "markdown",
      "metadata": {
        "id": "8y5R11_-OJoe"
      },
      "source": [
        "With Colab, we can harness the power of popular Python libraries to analyze, without needing to install every single one of them individually."
      ]
    },
    {
      "cell_type": "markdown",
      "metadata": {
        "id": "8aDmENaAPQzu"
      },
      "source": [
        "**Now, let us start working on a dataset and create visualizations from it**"
      ]
    },
    {
      "cell_type": "markdown",
      "metadata": {
        "id": "cxNdzyk5RWxY"
      },
      "source": [
        "## **SIGMA DATA ANALYTICS TASK-1**\n",
        "\n",
        "---\n",
        "\n",
        "\n",
        "\n",
        "\n",
        "\n",
        "**1. This task is designed for the applicants with *first preference* as Data Analytics**\n",
        "\n",
        "**2. All the Questions are mandatory to attend**\n",
        "\n",
        "**3. Extra Points will be awarded for answering the Bonus Question**\n",
        "\n",
        "**4. Make a copy of this notebook (File -> Save a copy in Drive) in your own google drive and start working on it. You will not be able to save changes to this notebook as it is read only.**\n",
        "\n",
        "**5.Answer the bonus question in this colab notebook itself by creating a new text cell just below the bonus question**\n",
        "\n",
        "\n",
        "\n",
        "\n",
        "\n",
        "\n",
        "\n"
      ]
    },
    {
      "cell_type": "markdown",
      "metadata": {
        "id": "xeicIuoSLe9V"
      },
      "source": [
        "# **Importing the data:**"
      ]
    },
    {
      "cell_type": "code",
      "execution_count": 1,
      "metadata": {
        "id": "4ZFnmnLc7v7t"
      },
      "outputs": [],
      "source": [
        "import pandas as pd\n",
        "import numpy as np\n",
        "import matplotlib.pyplot as plt"
      ]
    },
    {
      "cell_type": "markdown",
      "metadata": {
        "id": "rRfhtLpeJGg_"
      },
      "source": [
        "Here we import the most commonly used Python packages/libraries and assign them to keywords for easy access;"
      ]
    },
    {
      "cell_type": "markdown",
      "metadata": {
        "id": "PBFlULDJLHxY"
      },
      "source": [
        "If you want to know more about these packages, click the links below:\n",
        "- [Introduction to Matplotlib](https://www.geeksforgeeks.org/python-introduction-matplotlib/)\n",
        "- [Introduction to Pandas DataFrame](https://www.geeksforgeeks.org/python-pandas-dataframe/)"
      ]
    },
    {
      "cell_type": "markdown",
      "metadata": {
        "id": "ito3MtKBlb9E"
      },
      "source": [
        "**Mounting the Drive :**"
      ]
    },
    {
      "cell_type": "markdown",
      "metadata": {
        "id": "WNdrCrvuli4H"
      },
      "source": [
        "Before we can import our data, we need to mount the drive\n",
        "\n",
        "Code in the cell below can be referred to do it:"
      ]
    },
    {
      "cell_type": "code",
      "execution_count": null,
      "metadata": {
        "colab": {
          "base_uri": "https://localhost:8080/"
        },
        "id": "4CdszF4Ambe6",
        "outputId": "d4534d0e-22fb-4000-b7a6-e3c1d957a3a1"
      },
      "outputs": [
        {
          "name": "stdout",
          "output_type": "stream",
          "text": [
            "Mounted at /content/gdrive\n"
          ]
        }
      ],
      "source": [
        "from google.colab import drive\n",
        "drive.mount('/content/gdrive')"
      ]
    },
    {
      "cell_type": "markdown",
      "metadata": {
        "id": "0yKMtEMjpdj_"
      },
      "source": [
        "Refer this \n",
        "[article](https://towardsdatascience.com/downloading-datasets-into-google-drive-via-google-colab-bcb1b30b0166) to get a better understanding"
      ]
    },
    {
      "cell_type": "markdown",
      "metadata": {
        "id": "4N1XnJ3RmtmL"
      },
      "source": [
        "Now, we have our drive mounted to our colab. \n",
        "\n",
        "We have to upload the dataset that we want to import to the drive and copy the path and feed it to read_csv function"
      ]
    },
    {
      "cell_type": "code",
      "execution_count": 2,
      "metadata": {
        "id": "w_8Kp3YVIRIA"
      },
      "outputs": [],
      "source": [
        "df = pd.read_csv('./Absenteeism_Inductions.csv')"
      ]
    },
    {
      "cell_type": "markdown",
      "metadata": {
        "id": "GkXxDPVzITrA"
      },
      "source": [
        "We create a dataframe **\"df\"**, which will contain the dataset in consideration. The file is read from the system using the **pandas** function *pd.read_csv()* as it is in a **CSV** format.\n",
        "Here inside the quotes, the address of our database will go in."
      ]
    },
    {
      "cell_type": "markdown",
      "metadata": {
        "id": "0Y6_ZgnoaJB-"
      },
      "source": [
        " # **Data Preprocessing**\n",
        "\n",
        "Before applying Modelling to your dataset it is very important to understand and analyse your dataset. In this section we will analyse our dataset and perform data cleaning and preprocessing to achieve meaningful insights"
      ]
    },
    {
      "cell_type": "markdown",
      "metadata": {
        "id": "uDIHhuCCUkhS"
      },
      "source": [
        "**Import the libraries**"
      ]
    },
    {
      "cell_type": "code",
      "execution_count": 3,
      "metadata": {
        "id": "zJPosmKOUtFl"
      },
      "outputs": [],
      "source": [
        "import pandas as pd\n",
        "import numpy as np\n",
        "import matplotlib.pyplot as plt\n",
        "from sklearn.impute import SimpleImputer\n",
        "import seaborn as sb"
      ]
    },
    {
      "cell_type": "markdown",
      "metadata": {
        "id": "vjWRodQPUtez"
      },
      "source": [
        "**Read the Absenteesim CSV file using read_csv**"
      ]
    },
    {
      "cell_type": "code",
      "execution_count": 5,
      "metadata": {
        "id": "WfGC2JmibdVn"
      },
      "outputs": [],
      "source": [
        "absenteeism = pd.read_csv('./Absenteeism_Inductions.csv')\n"
      ]
    },
    {
      "cell_type": "markdown",
      "metadata": {
        "id": "n1lfMxYBgHbL"
      },
      "source": [
        "**print all the column names and datatype of each column in the dataframe** "
      ]
    },
    {
      "cell_type": "code",
      "execution_count": null,
      "metadata": {
        "colab": {
          "base_uri": "https://localhost:8080/"
        },
        "id": "-qGnnTxa7bCr",
        "outputId": "2f691419-9860-4852-b022-8c3fe777c504"
      },
      "outputs": [
        {
          "name": "stdout",
          "output_type": "stream",
          "text": [
            "List of column names :  ['ID', 'Month of absence', 'Day of the week', 'Seasons', 'Transportation expense', 'Distance from Residence to College', 'Weight', 'Height', 'Body mass index', 'Absenteeism time in hours']\n"
          ]
        },
        {
          "data": {
            "text/plain": [
              "ID                                      int64\n",
              "Month of absence                        int64\n",
              "Day of the week                         int64\n",
              "Seasons                                object\n",
              "Transportation expense                  int64\n",
              "Distance from Residence to College    float64\n",
              "Weight                                  int64\n",
              "Height                                  int64\n",
              "Body mass index                         int64\n",
              "Absenteeism time in hours               int64\n",
              "dtype: object"
            ]
          },
          "execution_count": 12,
          "metadata": {},
          "output_type": "execute_result"
        }
      ],
      "source": [
        "df = pd.read_csv('/content/Absenteeism_Inductions.csv')\n",
        "list_of_column_names = list(df.columns)\n",
        "print('List of column names : ',\n",
        "\tlist_of_column_names)\n",
        "\n",
        "df.dtypes\n"
      ]
    },
    {
      "cell_type": "code",
      "execution_count": 6,
      "metadata": {
        "colab": {
          "base_uri": "https://localhost:8080/"
        },
        "id": "A_x7KPbkbR5Y",
        "outputId": "cfc52887-fbe7-4eaa-d41f-5efddf1cc676"
      },
      "outputs": [
        {
          "data": {
            "text/plain": [
              "<bound method NDFrame.head of      ID  Month of absence  Day of the week Seasons  Transportation expense  \\\n",
              "0    11                 7                3  Spring                     289   \n",
              "1    36                 7                3  Spring                     118   \n",
              "2     3                 7                4  Spring                     179   \n",
              "3     7                 7                5  Spring                     279   \n",
              "4    11                 7                5  Spring                     289   \n",
              "..   ..               ...              ...     ...                     ...   \n",
              "735  11                 7                3  Spring                     289   \n",
              "736   1                 7                3  Spring                     235   \n",
              "737   4                 0                3  Spring                     118   \n",
              "738   8                 0                4  Summer                     231   \n",
              "739  35                 0                6  Autumn                     179   \n",
              "\n",
              "     Distance from Residence to College  Weight  Height  Body mass index  \\\n",
              "0                                  36.0      90     172               30   \n",
              "1                                  13.0      98     178               31   \n",
              "2                                  51.0      89     170               31   \n",
              "3                                   5.0      68     168               24   \n",
              "4                                  36.0      90     172               30   \n",
              "..                                  ...     ...     ...              ...   \n",
              "735                                36.0      90     172               30   \n",
              "736                                11.0      88     172               29   \n",
              "737                                14.0      98     170               34   \n",
              "738                                35.0     100     170               35   \n",
              "739                                45.0      77     175               25   \n",
              "\n",
              "     Absenteeism time in hours  \n",
              "0                            4  \n",
              "1                            0  \n",
              "2                            2  \n",
              "3                            4  \n",
              "4                            2  \n",
              "..                         ...  \n",
              "735                          8  \n",
              "736                          4  \n",
              "737                          0  \n",
              "738                          0  \n",
              "739                          0  \n",
              "\n",
              "[740 rows x 10 columns]>"
            ]
          },
          "execution_count": 6,
          "metadata": {},
          "output_type": "execute_result"
        }
      ],
      "source": [
        "absenteeism.head"
      ]
    },
    {
      "cell_type": "code",
      "execution_count": 7,
      "metadata": {
        "colab": {
          "base_uri": "https://localhost:8080/",
          "height": 362
        },
        "id": "hyAetjS_sx0y",
        "outputId": "f54e0aa2-3a27-411b-c325-fba8707312a6"
      },
      "outputs": [
        {
          "data": {
            "text/html": [
              "<div>\n",
              "<style scoped>\n",
              "    .dataframe tbody tr th:only-of-type {\n",
              "        vertical-align: middle;\n",
              "    }\n",
              "\n",
              "    .dataframe tbody tr th {\n",
              "        vertical-align: top;\n",
              "    }\n",
              "\n",
              "    .dataframe thead th {\n",
              "        text-align: right;\n",
              "    }\n",
              "</style>\n",
              "<table border=\"1\" class=\"dataframe\">\n",
              "  <thead>\n",
              "    <tr style=\"text-align: right;\">\n",
              "      <th></th>\n",
              "      <th>ID</th>\n",
              "      <th>Month of absence</th>\n",
              "      <th>Day of the week</th>\n",
              "      <th>Transportation expense</th>\n",
              "      <th>Distance from Residence to College</th>\n",
              "      <th>Weight</th>\n",
              "      <th>Height</th>\n",
              "      <th>Body mass index</th>\n",
              "      <th>Absenteeism time in hours</th>\n",
              "    </tr>\n",
              "  </thead>\n",
              "  <tbody>\n",
              "    <tr>\n",
              "      <th>count</th>\n",
              "      <td>740.000000</td>\n",
              "      <td>740.000000</td>\n",
              "      <td>740.000000</td>\n",
              "      <td>740.000000</td>\n",
              "      <td>686.000000</td>\n",
              "      <td>740.000000</td>\n",
              "      <td>740.000000</td>\n",
              "      <td>740.000000</td>\n",
              "      <td>740.000000</td>\n",
              "    </tr>\n",
              "    <tr>\n",
              "      <th>mean</th>\n",
              "      <td>18.017568</td>\n",
              "      <td>6.324324</td>\n",
              "      <td>3.914865</td>\n",
              "      <td>221.329730</td>\n",
              "      <td>29.637026</td>\n",
              "      <td>79.035135</td>\n",
              "      <td>172.114865</td>\n",
              "      <td>26.677027</td>\n",
              "      <td>6.924324</td>\n",
              "    </tr>\n",
              "    <tr>\n",
              "      <th>std</th>\n",
              "      <td>11.021247</td>\n",
              "      <td>3.436287</td>\n",
              "      <td>1.421675</td>\n",
              "      <td>66.952223</td>\n",
              "      <td>14.852984</td>\n",
              "      <td>12.883211</td>\n",
              "      <td>6.034995</td>\n",
              "      <td>4.285452</td>\n",
              "      <td>13.330998</td>\n",
              "    </tr>\n",
              "    <tr>\n",
              "      <th>min</th>\n",
              "      <td>1.000000</td>\n",
              "      <td>0.000000</td>\n",
              "      <td>2.000000</td>\n",
              "      <td>118.000000</td>\n",
              "      <td>5.000000</td>\n",
              "      <td>56.000000</td>\n",
              "      <td>163.000000</td>\n",
              "      <td>19.000000</td>\n",
              "      <td>0.000000</td>\n",
              "    </tr>\n",
              "    <tr>\n",
              "      <th>25%</th>\n",
              "      <td>9.000000</td>\n",
              "      <td>3.000000</td>\n",
              "      <td>3.000000</td>\n",
              "      <td>179.000000</td>\n",
              "      <td>16.000000</td>\n",
              "      <td>69.000000</td>\n",
              "      <td>169.000000</td>\n",
              "      <td>24.000000</td>\n",
              "      <td>2.000000</td>\n",
              "    </tr>\n",
              "    <tr>\n",
              "      <th>50%</th>\n",
              "      <td>18.000000</td>\n",
              "      <td>6.000000</td>\n",
              "      <td>4.000000</td>\n",
              "      <td>225.000000</td>\n",
              "      <td>26.000000</td>\n",
              "      <td>83.000000</td>\n",
              "      <td>170.000000</td>\n",
              "      <td>25.000000</td>\n",
              "      <td>3.000000</td>\n",
              "    </tr>\n",
              "    <tr>\n",
              "      <th>75%</th>\n",
              "      <td>28.000000</td>\n",
              "      <td>9.000000</td>\n",
              "      <td>5.000000</td>\n",
              "      <td>260.000000</td>\n",
              "      <td>50.000000</td>\n",
              "      <td>89.000000</td>\n",
              "      <td>172.000000</td>\n",
              "      <td>31.000000</td>\n",
              "      <td>8.000000</td>\n",
              "    </tr>\n",
              "    <tr>\n",
              "      <th>max</th>\n",
              "      <td>36.000000</td>\n",
              "      <td>12.000000</td>\n",
              "      <td>6.000000</td>\n",
              "      <td>388.000000</td>\n",
              "      <td>52.000000</td>\n",
              "      <td>108.000000</td>\n",
              "      <td>196.000000</td>\n",
              "      <td>38.000000</td>\n",
              "      <td>120.000000</td>\n",
              "    </tr>\n",
              "  </tbody>\n",
              "</table>\n",
              "</div>"
            ],
            "text/plain": [
              "               ID  Month of absence  Day of the week  Transportation expense  \\\n",
              "count  740.000000        740.000000       740.000000              740.000000   \n",
              "mean    18.017568          6.324324         3.914865              221.329730   \n",
              "std     11.021247          3.436287         1.421675               66.952223   \n",
              "min      1.000000          0.000000         2.000000              118.000000   \n",
              "25%      9.000000          3.000000         3.000000              179.000000   \n",
              "50%     18.000000          6.000000         4.000000              225.000000   \n",
              "75%     28.000000          9.000000         5.000000              260.000000   \n",
              "max     36.000000         12.000000         6.000000              388.000000   \n",
              "\n",
              "       Distance from Residence to College      Weight      Height  \\\n",
              "count                          686.000000  740.000000  740.000000   \n",
              "mean                            29.637026   79.035135  172.114865   \n",
              "std                             14.852984   12.883211    6.034995   \n",
              "min                              5.000000   56.000000  163.000000   \n",
              "25%                             16.000000   69.000000  169.000000   \n",
              "50%                             26.000000   83.000000  170.000000   \n",
              "75%                             50.000000   89.000000  172.000000   \n",
              "max                             52.000000  108.000000  196.000000   \n",
              "\n",
              "       Body mass index  Absenteeism time in hours  \n",
              "count       740.000000                 740.000000  \n",
              "mean         26.677027                   6.924324  \n",
              "std           4.285452                  13.330998  \n",
              "min          19.000000                   0.000000  \n",
              "25%          24.000000                   2.000000  \n",
              "50%          25.000000                   3.000000  \n",
              "75%          31.000000                   8.000000  \n",
              "max          38.000000                 120.000000  "
            ]
          },
          "execution_count": 7,
          "metadata": {},
          "output_type": "execute_result"
        }
      ],
      "source": [
        "absenteeism.describe()"
      ]
    },
    {
      "cell_type": "markdown",
      "metadata": {
        "id": "c4hZCu1OgVuX"
      },
      "source": [
        "**Print the average height and maximum weight of the students**"
      ]
    },
    {
      "cell_type": "code",
      "execution_count": 8,
      "metadata": {
        "colab": {
          "base_uri": "https://localhost:8080/"
        },
        "id": "pYhZNjc2cpx3",
        "outputId": "2dd4c12a-35c6-4c52-c4de-1e7c1f6d7b7c"
      },
      "outputs": [
        {
          "data": {
            "text/plain": [
              "172.11486486486487"
            ]
          },
          "execution_count": 8,
          "metadata": {},
          "output_type": "execute_result"
        }
      ],
      "source": [
        "absenteeism['Height'].mean()\n"
      ]
    },
    {
      "cell_type": "code",
      "execution_count": 9,
      "metadata": {},
      "outputs": [
        {
          "data": {
            "text/plain": [
              "79.03513513513514"
            ]
          },
          "execution_count": 9,
          "metadata": {},
          "output_type": "execute_result"
        }
      ],
      "source": [
        "absenteeism['Weight'].mean() #  here is the mean of the weightss\n"
      ]
    },
    {
      "cell_type": "code",
      "execution_count": 10,
      "metadata": {},
      "outputs": [
        {
          "data": {
            "text/plain": [
              "26.677027027027027"
            ]
          },
          "execution_count": 10,
          "metadata": {},
          "output_type": "execute_result"
        }
      ],
      "source": [
        "absenteeism['Body mass index'].mean() #  here is the mean of the BMIs\n"
      ]
    },
    {
      "cell_type": "code",
      "execution_count": 12,
      "metadata": {},
      "outputs": [
        {
          "data": {
            "text/plain": [
              "221.32972972972973"
            ]
          },
          "execution_count": 12,
          "metadata": {},
          "output_type": "execute_result"
        }
      ],
      "source": [
        "absenteeism['Transportation expense'].mean() #  here is the mean of the Transportaiton expense\n"
      ]
    },
    {
      "cell_type": "markdown",
      "metadata": {
        "id": "JgAAxfltfeEm"
      },
      "source": [
        "max value of each column\n"
      ]
    },
    {
      "cell_type": "code",
      "execution_count": null,
      "metadata": {
        "colab": {
          "base_uri": "https://localhost:8080/"
        },
        "id": "GrjqxnBBb16i",
        "outputId": "5093b3fc-dad2-4161-9e0b-2354139312aa"
      },
      "outputs": [
        {
          "name": "stdout",
          "output_type": "stream",
          "text": [
            "ID                                        36\n",
            "Month of absence                          12\n",
            "Day of the week                            6\n",
            "Seasons                               Winter\n",
            "Transportation expense                   388\n",
            "Distance from Residence to College      52.0\n",
            "Weight                                   108\n",
            "Height                                   196\n",
            "Body mass index                           38\n",
            "Absenteeism time in hours                120\n",
            "dtype: object\n"
          ]
        }
      ],
      "source": [
        "maxValues = absenteeism.max()\n",
        "print(maxValues)"
      ]
    },
    {
      "cell_type": "markdown",
      "metadata": {
        "id": "5sA1ETRVfnIm"
      },
      "source": [
        "max value of weight column"
      ]
    },
    {
      "cell_type": "code",
      "execution_count": null,
      "metadata": {
        "colab": {
          "base_uri": "https://localhost:8080/"
        },
        "id": "gN5zRUJ_doWn",
        "outputId": "68b4478a-a2ae-4080-fda5-7312255a3f9c"
      },
      "outputs": [
        {
          "name": "stdout",
          "output_type": "stream",
          "text": [
            "Maximum value in column 'Weight': \n",
            "108\n"
          ]
        }
      ],
      "source": [
        "maxClm = absenteeism['Weight'].max()\n",
        "print(\"Maximum value in column 'Weight': \")\n",
        "print(maxClm)"
      ]
    },
    {
      "cell_type": "code",
      "execution_count": null,
      "metadata": {
        "colab": {
          "base_uri": "https://localhost:8080/"
        },
        "id": "sCMDOeWbcMaU",
        "outputId": "b39585f3-03ea-48c1-d19d-1b57a80600f9"
      },
      "outputs": [
        {
          "data": {
            "text/plain": [
              "0    89\n",
              "dtype: int64"
            ]
          },
          "execution_count": 18,
          "metadata": {},
          "output_type": "execute_result"
        }
      ],
      "source": [
        "absenteeism['Weight'].mode()"
      ]
    },
    {
      "cell_type": "markdown",
      "metadata": {
        "id": "Xtc03kE9gbL0"
      },
      "source": [
        "**Print the frequency of Absentees in each month** "
      ]
    },
    {
      "cell_type": "code",
      "execution_count": null,
      "metadata": {
        "id": "OlM_7CqycBy8"
      },
      "outputs": [],
      "source": [
        " #Hint:You can use value_counts() to find students absent in each month\n",
        " "
      ]
    },
    {
      "cell_type": "code",
      "execution_count": null,
      "metadata": {
        "colab": {
          "base_uri": "https://localhost:8080/"
        },
        "id": "9yFe58ARhJRR",
        "outputId": "e6c55f6d-9401-4c7b-9b9e-e364ee21810e"
      },
      "outputs": [
        {
          "data": {
            "text/plain": [
              "3     87\n",
              "2     72\n",
              "10    71\n",
              "7     67\n",
              "5     64\n",
              "11    63\n",
              "8     54\n",
              "6     54\n",
              "9     53\n",
              "4     53\n",
              "1     50\n",
              "12    49\n",
              "0      3\n",
              "Name: Month of absence, dtype: int64"
            ]
          },
          "execution_count": 20,
          "metadata": {},
          "output_type": "execute_result"
        }
      ],
      "source": [
        "absenteeism['Month of absence'].value_counts()"
      ]
    },
    {
      "cell_type": "markdown",
      "metadata": {
        "id": "sbZhgBG4gmA3"
      },
      "source": [
        "**Print the days in which no of Absentees exceed 150**"
      ]
    },
    {
      "cell_type": "code",
      "execution_count": null,
      "metadata": {
        "colab": {
          "base_uri": "https://localhost:8080/"
        },
        "id": "Phn9hMrtb7aK",
        "outputId": "d91346b5-cb63-415e-8db4-c25b1d574767"
      },
      "outputs": [
        {
          "name": "stdout",
          "output_type": "stream",
          "text": [
            "Day when absentees exceed 150: \n",
            "2\n",
            "Day when absentees exceed 150: \n",
            "4\n",
            "Day when absentees exceed 150: \n",
            "3\n"
          ]
        }
      ],
      "source": [
        "ex = absenteeism['Day of the week'].value_counts()\n",
        "j = 0\n",
        "for i in ex :\n",
        "  if i > 150:\n",
        "    print(\"Day when absentees exceed 150: \")\n",
        "    print(ex.index[j])\n",
        "  j += 1\n",
        "  "
      ]
    },
    {
      "cell_type": "code",
      "execution_count": null,
      "metadata": {
        "id": "_M7EWNH4Aws4"
      },
      "outputs": [],
      "source": [
        "def exceed_find(parameter, threshold):\n",
        "    ex = absenteeism[parameter].value_counts()\n",
        "    j = 0\n",
        "    for i in ex :\n",
        "      if i > threshold:\n",
        "        print(ex.index[j])\n",
        "      j += 1\n",
        "      "
      ]
    },
    {
      "cell_type": "code",
      "execution_count": null,
      "metadata": {
        "id": "Ta27ulp9kMNG"
      },
      "outputs": [],
      "source": [
        "#awk -F \",\" 'length() > 150 {print()}'Absenteeism_Inductions.csv"
      ]
    },
    {
      "cell_type": "markdown",
      "metadata": {
        "id": "OjVzFGxJkgS5"
      },
      "source": [
        "**Print absentees with more than 10 hrs of absenteeism in december**"
      ]
    },
    {
      "cell_type": "code",
      "execution_count": null,
      "metadata": {
        "colab": {
          "base_uri": "https://localhost:8080/"
        },
        "id": "PAl5zddokkeB",
        "outputId": "93d3e6ab-80da-47aa-a651-ae93e29efeb4"
      },
      "outputs": [
        {
          "name": "stdout",
          "output_type": "stream",
          "text": [
            "8\n",
            "2\n",
            "3\n",
            "1\n",
            "4\n",
            "0\n",
            "16\n",
            "24\n"
          ]
        }
      ],
      "source": [
        "exceed_find(\"Absenteeism time in hours\", 10)"
      ]
    },
    {
      "cell_type": "markdown",
      "metadata": {
        "id": "quUv7SrbHTd7"
      },
      "source": [
        "**Print the number of missing values in each column**"
      ]
    },
    {
      "cell_type": "code",
      "execution_count": null,
      "metadata": {
        "colab": {
          "base_uri": "https://localhost:8080/"
        },
        "id": "sKEpxKQsHXTT",
        "outputId": "2a99cac9-d0b7-45b6-fff0-e124cb36bc37"
      },
      "outputs": [
        {
          "name": "stdout",
          "output_type": "stream",
          "text": [
            "        ID  Month of absence  Day of the week  Seasons  \\\n",
            "0    False             False            False    False   \n",
            "1    False             False            False    False   \n",
            "2    False             False            False    False   \n",
            "3    False             False            False    False   \n",
            "4    False             False            False    False   \n",
            "..     ...               ...              ...      ...   \n",
            "735  False             False            False    False   \n",
            "736  False             False            False    False   \n",
            "737  False             False            False    False   \n",
            "738  False             False            False    False   \n",
            "739  False             False            False    False   \n",
            "\n",
            "     Transportation expense  Distance from Residence to College  Weight  \\\n",
            "0                     False                               False   False   \n",
            "1                     False                               False   False   \n",
            "2                     False                               False   False   \n",
            "3                     False                               False   False   \n",
            "4                     False                               False   False   \n",
            "..                      ...                                 ...     ...   \n",
            "735                   False                               False   False   \n",
            "736                   False                               False   False   \n",
            "737                   False                               False   False   \n",
            "738                   False                               False   False   \n",
            "739                   False                               False   False   \n",
            "\n",
            "     Height  Body mass index  Absenteeism time in hours  \n",
            "0     False            False                      False  \n",
            "1     False            False                      False  \n",
            "2     False            False                      False  \n",
            "3     False            False                      False  \n",
            "4     False            False                      False  \n",
            "..      ...              ...                        ...  \n",
            "735   False            False                      False  \n",
            "736   False            False                      False  \n",
            "737   False            False                      False  \n",
            "738   False            False                      False  \n",
            "739   False            False                      False  \n",
            "\n",
            "[740 rows x 10 columns]\n"
          ]
        }
      ],
      "source": [
        "print(absenteeism.isnull())"
      ]
    },
    {
      "cell_type": "code",
      "execution_count": null,
      "metadata": {
        "colab": {
          "base_uri": "https://localhost:8080/"
        },
        "id": "bXJ1AzpVoiJU",
        "outputId": "6904eebb-ab14-4697-c69b-1ee2e836165c"
      },
      "outputs": [
        {
          "name": "stdout",
          "output_type": "stream",
          "text": [
            "\n",
            " NAN count in DataFrame:\n",
            " ID                                     0\n",
            "Month of absence                       0\n",
            "Day of the week                        0\n",
            "Seasons                                0\n",
            "Transportation expense                 0\n",
            "Distance from Residence to College    54\n",
            "Weight                                 0\n",
            "Height                                 0\n",
            "Body mass index                        0\n",
            "Absenteeism time in hours              0\n",
            "dtype: int64\n"
          ]
        }
      ],
      "source": [
        "count = absenteeism.isna().sum()\n",
        "print(\"\\n NAN count in DataFrame:\\n\",count)"
      ]
    },
    {
      "cell_type": "markdown",
      "metadata": {
        "id": "XP2jdMrIgpj-"
      },
      "source": [
        "**Fill the missing values using the SimpleImputer() method**"
      ]
    },
    {
      "cell_type": "code",
      "execution_count": null,
      "metadata": {
        "id": "DzTYELtOcZy3"
      },
      "outputs": [],
      "source": [
        "#NOTE: You can use either mean or median as the strategy depending on your own intution\n"
      ]
    },
    {
      "cell_type": "code",
      "execution_count": null,
      "metadata": {
        "colab": {
          "base_uri": "https://localhost:8080/"
        },
        "id": "8KQC9XiOt3WH",
        "outputId": "db0cad70-58ad-4505-eccb-cdd5209a62aa"
      },
      "outputs": [
        {
          "data": {
            "text/plain": [
              "29.637026239067055"
            ]
          },
          "execution_count": 28,
          "metadata": {},
          "output_type": "execute_result"
        }
      ],
      "source": [
        "absenteeism['Distance from Residence to College'].mean()"
      ]
    },
    {
      "cell_type": "code",
      "execution_count": null,
      "metadata": {
        "colab": {
          "base_uri": "https://localhost:8080/",
          "height": 485
        },
        "id": "IiCdOnx1qtiP",
        "outputId": "15f93843-0654-4d55-9b0e-db4d5973bc02"
      },
      "outputs": [
        {
          "data": {
            "text/html": [
              "\n",
              "  <div id=\"df-0ae9abc0-e80c-47f9-b30f-48b3b18805e0\">\n",
              "    <div class=\"colab-df-container\">\n",
              "      <div>\n",
              "<style scoped>\n",
              "    .dataframe tbody tr th:only-of-type {\n",
              "        vertical-align: middle;\n",
              "    }\n",
              "\n",
              "    .dataframe tbody tr th {\n",
              "        vertical-align: top;\n",
              "    }\n",
              "\n",
              "    .dataframe thead th {\n",
              "        text-align: right;\n",
              "    }\n",
              "</style>\n",
              "<table border=\"1\" class=\"dataframe\">\n",
              "  <thead>\n",
              "    <tr style=\"text-align: right;\">\n",
              "      <th></th>\n",
              "      <th>ID</th>\n",
              "      <th>Month of absence</th>\n",
              "      <th>Day of the week</th>\n",
              "      <th>Seasons</th>\n",
              "      <th>Transportation expense</th>\n",
              "      <th>Distance from Residence to College</th>\n",
              "      <th>Weight</th>\n",
              "      <th>Height</th>\n",
              "      <th>Body mass index</th>\n",
              "      <th>Absenteeism time in hours</th>\n",
              "    </tr>\n",
              "  </thead>\n",
              "  <tbody>\n",
              "    <tr>\n",
              "      <th>0</th>\n",
              "      <td>11</td>\n",
              "      <td>7</td>\n",
              "      <td>3</td>\n",
              "      <td>Spring</td>\n",
              "      <td>289</td>\n",
              "      <td>36.0</td>\n",
              "      <td>90</td>\n",
              "      <td>172</td>\n",
              "      <td>30</td>\n",
              "      <td>4</td>\n",
              "    </tr>\n",
              "    <tr>\n",
              "      <th>1</th>\n",
              "      <td>36</td>\n",
              "      <td>7</td>\n",
              "      <td>3</td>\n",
              "      <td>Spring</td>\n",
              "      <td>118</td>\n",
              "      <td>13.0</td>\n",
              "      <td>98</td>\n",
              "      <td>178</td>\n",
              "      <td>31</td>\n",
              "      <td>0</td>\n",
              "    </tr>\n",
              "    <tr>\n",
              "      <th>2</th>\n",
              "      <td>3</td>\n",
              "      <td>7</td>\n",
              "      <td>4</td>\n",
              "      <td>Spring</td>\n",
              "      <td>179</td>\n",
              "      <td>51.0</td>\n",
              "      <td>89</td>\n",
              "      <td>170</td>\n",
              "      <td>31</td>\n",
              "      <td>2</td>\n",
              "    </tr>\n",
              "    <tr>\n",
              "      <th>3</th>\n",
              "      <td>7</td>\n",
              "      <td>7</td>\n",
              "      <td>5</td>\n",
              "      <td>Spring</td>\n",
              "      <td>279</td>\n",
              "      <td>5.0</td>\n",
              "      <td>68</td>\n",
              "      <td>168</td>\n",
              "      <td>24</td>\n",
              "      <td>4</td>\n",
              "    </tr>\n",
              "    <tr>\n",
              "      <th>4</th>\n",
              "      <td>11</td>\n",
              "      <td>7</td>\n",
              "      <td>5</td>\n",
              "      <td>Spring</td>\n",
              "      <td>289</td>\n",
              "      <td>36.0</td>\n",
              "      <td>90</td>\n",
              "      <td>172</td>\n",
              "      <td>30</td>\n",
              "      <td>2</td>\n",
              "    </tr>\n",
              "    <tr>\n",
              "      <th>...</th>\n",
              "      <td>...</td>\n",
              "      <td>...</td>\n",
              "      <td>...</td>\n",
              "      <td>...</td>\n",
              "      <td>...</td>\n",
              "      <td>...</td>\n",
              "      <td>...</td>\n",
              "      <td>...</td>\n",
              "      <td>...</td>\n",
              "      <td>...</td>\n",
              "    </tr>\n",
              "    <tr>\n",
              "      <th>735</th>\n",
              "      <td>11</td>\n",
              "      <td>7</td>\n",
              "      <td>3</td>\n",
              "      <td>Spring</td>\n",
              "      <td>289</td>\n",
              "      <td>36.0</td>\n",
              "      <td>90</td>\n",
              "      <td>172</td>\n",
              "      <td>30</td>\n",
              "      <td>8</td>\n",
              "    </tr>\n",
              "    <tr>\n",
              "      <th>736</th>\n",
              "      <td>1</td>\n",
              "      <td>7</td>\n",
              "      <td>3</td>\n",
              "      <td>Spring</td>\n",
              "      <td>235</td>\n",
              "      <td>11.0</td>\n",
              "      <td>88</td>\n",
              "      <td>172</td>\n",
              "      <td>29</td>\n",
              "      <td>4</td>\n",
              "    </tr>\n",
              "    <tr>\n",
              "      <th>737</th>\n",
              "      <td>4</td>\n",
              "      <td>0</td>\n",
              "      <td>3</td>\n",
              "      <td>Spring</td>\n",
              "      <td>118</td>\n",
              "      <td>14.0</td>\n",
              "      <td>98</td>\n",
              "      <td>170</td>\n",
              "      <td>34</td>\n",
              "      <td>0</td>\n",
              "    </tr>\n",
              "    <tr>\n",
              "      <th>738</th>\n",
              "      <td>8</td>\n",
              "      <td>0</td>\n",
              "      <td>4</td>\n",
              "      <td>Summer</td>\n",
              "      <td>231</td>\n",
              "      <td>35.0</td>\n",
              "      <td>100</td>\n",
              "      <td>170</td>\n",
              "      <td>35</td>\n",
              "      <td>0</td>\n",
              "    </tr>\n",
              "    <tr>\n",
              "      <th>739</th>\n",
              "      <td>35</td>\n",
              "      <td>0</td>\n",
              "      <td>6</td>\n",
              "      <td>Autumn</td>\n",
              "      <td>179</td>\n",
              "      <td>45.0</td>\n",
              "      <td>77</td>\n",
              "      <td>175</td>\n",
              "      <td>25</td>\n",
              "      <td>0</td>\n",
              "    </tr>\n",
              "  </tbody>\n",
              "</table>\n",
              "<p>740 rows × 10 columns</p>\n",
              "</div>\n",
              "      <button class=\"colab-df-convert\" onclick=\"convertToInteractive('df-0ae9abc0-e80c-47f9-b30f-48b3b18805e0')\"\n",
              "              title=\"Convert this dataframe to an interactive table.\"\n",
              "              style=\"display:none;\">\n",
              "        \n",
              "  <svg xmlns=\"http://www.w3.org/2000/svg\" height=\"24px\"viewBox=\"0 0 24 24\"\n",
              "       width=\"24px\">\n",
              "    <path d=\"M0 0h24v24H0V0z\" fill=\"none\"/>\n",
              "    <path d=\"M18.56 5.44l.94 2.06.94-2.06 2.06-.94-2.06-.94-.94-2.06-.94 2.06-2.06.94zm-11 1L8.5 8.5l.94-2.06 2.06-.94-2.06-.94L8.5 2.5l-.94 2.06-2.06.94zm10 10l.94 2.06.94-2.06 2.06-.94-2.06-.94-.94-2.06-.94 2.06-2.06.94z\"/><path d=\"M17.41 7.96l-1.37-1.37c-.4-.4-.92-.59-1.43-.59-.52 0-1.04.2-1.43.59L10.3 9.45l-7.72 7.72c-.78.78-.78 2.05 0 2.83L4 21.41c.39.39.9.59 1.41.59.51 0 1.02-.2 1.41-.59l7.78-7.78 2.81-2.81c.8-.78.8-2.07 0-2.86zM5.41 20L4 18.59l7.72-7.72 1.47 1.35L5.41 20z\"/>\n",
              "  </svg>\n",
              "      </button>\n",
              "      \n",
              "  <style>\n",
              "    .colab-df-container {\n",
              "      display:flex;\n",
              "      flex-wrap:wrap;\n",
              "      gap: 12px;\n",
              "    }\n",
              "\n",
              "    .colab-df-convert {\n",
              "      background-color: #E8F0FE;\n",
              "      border: none;\n",
              "      border-radius: 50%;\n",
              "      cursor: pointer;\n",
              "      display: none;\n",
              "      fill: #1967D2;\n",
              "      height: 32px;\n",
              "      padding: 0 0 0 0;\n",
              "      width: 32px;\n",
              "    }\n",
              "\n",
              "    .colab-df-convert:hover {\n",
              "      background-color: #E2EBFA;\n",
              "      box-shadow: 0px 1px 2px rgba(60, 64, 67, 0.3), 0px 1px 3px 1px rgba(60, 64, 67, 0.15);\n",
              "      fill: #174EA6;\n",
              "    }\n",
              "\n",
              "    [theme=dark] .colab-df-convert {\n",
              "      background-color: #3B4455;\n",
              "      fill: #D2E3FC;\n",
              "    }\n",
              "\n",
              "    [theme=dark] .colab-df-convert:hover {\n",
              "      background-color: #434B5C;\n",
              "      box-shadow: 0px 1px 3px 1px rgba(0, 0, 0, 0.15);\n",
              "      filter: drop-shadow(0px 1px 2px rgba(0, 0, 0, 0.3));\n",
              "      fill: #FFFFFF;\n",
              "    }\n",
              "  </style>\n",
              "\n",
              "      <script>\n",
              "        const buttonEl =\n",
              "          document.querySelector('#df-0ae9abc0-e80c-47f9-b30f-48b3b18805e0 button.colab-df-convert');\n",
              "        buttonEl.style.display =\n",
              "          google.colab.kernel.accessAllowed ? 'block' : 'none';\n",
              "\n",
              "        async function convertToInteractive(key) {\n",
              "          const element = document.querySelector('#df-0ae9abc0-e80c-47f9-b30f-48b3b18805e0');\n",
              "          const dataTable =\n",
              "            await google.colab.kernel.invokeFunction('convertToInteractive',\n",
              "                                                     [key], {});\n",
              "          if (!dataTable) return;\n",
              "\n",
              "          const docLinkHtml = 'Like what you see? Visit the ' +\n",
              "            '<a target=\"_blank\" href=https://colab.research.google.com/notebooks/data_table.ipynb>data table notebook</a>'\n",
              "            + ' to learn more about interactive tables.';\n",
              "          element.innerHTML = '';\n",
              "          dataTable['output_type'] = 'display_data';\n",
              "          await google.colab.output.renderOutput(dataTable, element);\n",
              "          const docLink = document.createElement('div');\n",
              "          docLink.innerHTML = docLinkHtml;\n",
              "          element.appendChild(docLink);\n",
              "        }\n",
              "      </script>\n",
              "    </div>\n",
              "  </div>\n",
              "  "
            ],
            "text/plain": [
              "     ID  Month of absence  Day of the week Seasons  Transportation expense  \\\n",
              "0    11                 7                3  Spring                     289   \n",
              "1    36                 7                3  Spring                     118   \n",
              "2     3                 7                4  Spring                     179   \n",
              "3     7                 7                5  Spring                     279   \n",
              "4    11                 7                5  Spring                     289   \n",
              "..   ..               ...              ...     ...                     ...   \n",
              "735  11                 7                3  Spring                     289   \n",
              "736   1                 7                3  Spring                     235   \n",
              "737   4                 0                3  Spring                     118   \n",
              "738   8                 0                4  Summer                     231   \n",
              "739  35                 0                6  Autumn                     179   \n",
              "\n",
              "     Distance from Residence to College  Weight  Height  Body mass index  \\\n",
              "0                                  36.0      90     172               30   \n",
              "1                                  13.0      98     178               31   \n",
              "2                                  51.0      89     170               31   \n",
              "3                                   5.0      68     168               24   \n",
              "4                                  36.0      90     172               30   \n",
              "..                                  ...     ...     ...              ...   \n",
              "735                                36.0      90     172               30   \n",
              "736                                11.0      88     172               29   \n",
              "737                                14.0      98     170               34   \n",
              "738                                35.0     100     170               35   \n",
              "739                                45.0      77     175               25   \n",
              "\n",
              "     Absenteeism time in hours  \n",
              "0                            4  \n",
              "1                            0  \n",
              "2                            2  \n",
              "3                            4  \n",
              "4                            2  \n",
              "..                         ...  \n",
              "735                          8  \n",
              "736                          4  \n",
              "737                          0  \n",
              "738                          0  \n",
              "739                          0  \n",
              "\n",
              "[740 rows x 10 columns]"
            ]
          },
          "execution_count": 29,
          "metadata": {},
          "output_type": "execute_result"
        }
      ],
      "source": [
        "imputer=SimpleImputer(strategy='mean',missing_values=np.nan)\n",
        "imputer = imputer.fit(absenteeism[['Distance from Residence to College']])\n",
        "absenteeism[['Distance from Residence to College']]=imputer.transform(absenteeism[['Distance from Residence to College']])\n",
        "#absenteeism.isnull().value_counts()\n",
        "absenteeism"
      ]
    },
    {
      "cell_type": "markdown",
      "metadata": {
        "id": "8Bj0Pvx4g7ru"
      },
      "source": [
        "**Convert Seasonal column to Categorical data**\n",
        "**Assign 1-Spring**\n",
        "       **2-Summer**\n",
        "       **3-Autumn**\n",
        "       **4-Winter**"
      ]
    },
    {
      "cell_type": "code",
      "execution_count": null,
      "metadata": {
        "colab": {
          "base_uri": "https://localhost:8080/"
        },
        "id": "lXVKRzCOdw2e",
        "outputId": "1eae8b05-aee6-4ed6-bd32-9a4fbf3036c0"
      },
      "outputs": [
        {
          "data": {
            "text/plain": [
              "ID                                       int64\n",
              "Month of absence                         int64\n",
              "Day of the week                          int64\n",
              "Seasons                               category\n",
              "Transportation expense                   int64\n",
              "Distance from Residence to College     float64\n",
              "Weight                                   int64\n",
              "Height                                   int64\n",
              "Body mass index                          int64\n",
              "Absenteeism time in hours                int64\n",
              "dtype: object"
            ]
          },
          "execution_count": 30,
          "metadata": {},
          "output_type": "execute_result"
        }
      ],
      "source": [
        "absenteeism['Seasons'] = absenteeism.Seasons.astype('category')\n",
        "absenteeism.dtypes\n"
      ]
    },
    {
      "cell_type": "code",
      "execution_count": null,
      "metadata": {
        "colab": {
          "base_uri": "https://localhost:8080/"
        },
        "id": "o1jr-TWbtb1b",
        "outputId": "5160d429-d3d8-400e-9ad8-b0f648326a36"
      },
      "outputs": [
        {
          "name": "stdout",
          "output_type": "stream",
          "text": [
            "     ID  Month of absence  Day of the week Seasons  Transportation expense  \\\n",
            "0    11                 7                3       1                     289   \n",
            "1    36                 7                3       1                     118   \n",
            "2     3                 7                4       1                     179   \n",
            "3     7                 7                5       1                     279   \n",
            "4    11                 7                5       1                     289   \n",
            "..   ..               ...              ...     ...                     ...   \n",
            "735  11                 7                3       1                     289   \n",
            "736   1                 7                3       1                     235   \n",
            "737   4                 0                3       1                     118   \n",
            "738   8                 0                4       2                     231   \n",
            "739  35                 0                6       3                     179   \n",
            "\n",
            "     Distance from Residence to College  Weight  Height  Body mass index  \\\n",
            "0                                  36.0      90     172               30   \n",
            "1                                  13.0      98     178               31   \n",
            "2                                  51.0      89     170               31   \n",
            "3                                   5.0      68     168               24   \n",
            "4                                  36.0      90     172               30   \n",
            "..                                  ...     ...     ...              ...   \n",
            "735                                36.0      90     172               30   \n",
            "736                                11.0      88     172               29   \n",
            "737                                14.0      98     170               34   \n",
            "738                                35.0     100     170               35   \n",
            "739                                45.0      77     175               25   \n",
            "\n",
            "     Absenteeism time in hours  \n",
            "0                            4  \n",
            "1                            0  \n",
            "2                            2  \n",
            "3                            4  \n",
            "4                            2  \n",
            "..                         ...  \n",
            "735                          8  \n",
            "736                          4  \n",
            "737                          0  \n",
            "738                          0  \n",
            "739                          0  \n",
            "\n",
            "[740 rows x 10 columns]\n"
          ]
        }
      ],
      "source": [
        "\n",
        "df = pd.read_csv(\"/content/Absenteeism_Inductions.csv\")\n",
        "  \n",
        "# updating the column value/data\n",
        "df['Seasons'] = df['Seasons'].replace({'Spring': '1','Summer':'2','Autumn':'3','Winter':'4'})\n",
        "  \n",
        "# writing into the file\n",
        "df.to_csv(\"/content/Absenteeism_Inductions.csv\", index=False)\n",
        "  \n",
        "print(df)\n"
      ]
    },
    {
      "cell_type": "markdown",
      "metadata": {
        "id": "OlmyRGSarubm"
      },
      "source": [
        "# **Data Visualization**\n",
        "\n",
        "In this section, we will be analyzing our dataset by plotting various graphs and plots. Later on, we will try implementing and fitting our first Machine Learning Model- Linear Regression \n",
        "\n",
        "**Reference Articles:**\n",
        "1. https://www.analyticsvidhya.com/blog/2021/07/data-visualization-using-seaborn-for-beginners/\n",
        "2. https://seaborn.pydata.org/generated/seaborn.heatmap.html"
      ]
    },
    {
      "cell_type": "markdown",
      "metadata": {
        "id": "6adgxREQsSBi"
      },
      "source": [
        "**Q1. Using Seaborn or Matplotlib, plot a barplot between the Absenteeism time in hours and the day of the week.**\n",
        "\n"
      ]
    },
    {
      "cell_type": "code",
      "execution_count": null,
      "metadata": {
        "colab": {
          "base_uri": "https://localhost:8080/",
          "height": 279
        },
        "id": "ZdFBnthbmPhn",
        "outputId": "ebfdaac5-e335-41ca-8ec2-b740c0fb96f4"
      },
      "outputs": [
        {
          "data": {
            "image/png": "[encoded data removed]",
            "text/plain": [
              "<Figure size 432x288 with 1 Axes>"
            ]
          },
          "metadata": {
            "needs_background": "light"
          },
          "output_type": "display_data"
        }
      ],
      "source": [
        "#df = sb.load_dataset('Absenteeism_Inductions.csv')\n",
        "data=pd.read_csv(\"/content/Absenteeism_Inductions.csv\")\n",
        "df = pd.DataFrame(data)\n",
        "sb.barplot(x='Day of the week',y='Absenteeism time in hours',data=df)\n",
        "plt.show()"
      ]
    },
    {
      "cell_type": "markdown",
      "metadata": {
        "id": "TviPsBWbsY9k"
      },
      "source": [
        "Q1.1 What are the black lines at the top of each bar. What do they signify? How can we remove it?\n",
        "Plot the same graph without the black lines at the top."
      ]
    },
    {
      "cell_type": "markdown",
      "metadata": {
        "id": "49ZJ0eWjBn2j"
      },
      "source": [
        "This is the error bar. Error bars are graphical representations of the variability of data and used on graphs to indicate the error or uncertainty in a reported measurement. In your data, it is likely the Standard Deviation or STD line.\n",
        "By default, Seaborn adds error bars to the bars. we can remove them by setting the ci parameter to ci = None ."
      ]
    },
    {
      "cell_type": "code",
      "execution_count": null,
      "metadata": {
        "colab": {
          "base_uri": "https://localhost:8080/",
          "height": 279
        },
        "id": "Q_ftTfGNsk3v",
        "outputId": "3efe551a-a7b1-4fa1-9942-c25229cd06bd"
      },
      "outputs": [
        {
          "data": {
            "image/png": "[encoded data removed]",
            "text/plain": [
              "<Figure size 432x288 with 1 Axes>"
            ]
          },
          "metadata": {
            "needs_background": "light"
          },
          "output_type": "display_data"
        }
      ],
      "source": [
        "data=pd.read_csv(\"/content/Absenteeism_Inductions.csv\")\n",
        "df = pd.DataFrame(data)\n",
        "sb.barplot(x='Day of the week',y='Absenteeism time in hours',data=df,ci=0)\n",
        "plt.show()"
      ]
    },
    {
      "cell_type": "markdown",
      "metadata": {
        "id": "Hvx1VV3jsegG"
      },
      "source": [
        "**Q2. Plot a heatmap which shows the correlation between all the features.**"
      ]
    },
    {
      "cell_type": "code",
      "execution_count": null,
      "metadata": {
        "colab": {
          "base_uri": "https://localhost:8080/",
          "height": 437
        },
        "id": "P4hpFMYaGwDg",
        "outputId": "d5587e21-cbad-4183-e84a-e30921ad3005"
      },
      "outputs": [
        {
          "data": {
            "image/png": "[encoded data removed]",
            "text/plain": [
              "<Figure size 432x288 with 2 Axes>"
            ]
          },
          "metadata": {
            "needs_background": "light"
          },
          "output_type": "display_data"
        }
      ],
      "source": [
        "data=pd.read_csv(\"/content/Absenteeism_Inductions.csv\")\n",
        "  \n",
        "# plotting correlation heatmap\n",
        "dataplot=sb.heatmap(data.corr())\n",
        "  \n",
        "# displaying heatmap\n",
        "plt.show()"
      ]
    },
    {
      "cell_type": "markdown",
      "metadata": {
        "id": "EK5H5h5mspL5"
      },
      "source": [
        "**Q2.1 What can we interpret from the heatmap? What does correlation between features mean and how many types of correlation are there?**\n",
        "\n",
        "\n",
        "**BONUS Question:** Is there a way to write the correlation number on each cell of the heatmap? And since the heatmap looks clumsy, is there a way by which we can change the dimensions of the graph? \n",
        "Plot the heatmap again with these changes.\n"
      ]
    },
    {
      "cell_type": "markdown",
      "metadata": {
        "id": "MlgPKDZkIpPW"
      },
      "source": [
        "Heatmap is just a matrix of numbers where each square shows correlation b/w variables on each axis and correlation ranges from -1 to +1.values closer to 0 implies no linear trend b/w two variables.and cose to 1 implies more positively they are correlated(with both in same sense) ,-1 also implies same but instead of both increasing one variable will decrease as the other increases.The diagonals are all 1 i.e dark implies perfect correltion.The plot is symmetrical about diagonal as the same two variables are paired together in those squares.\n",
        "\n",
        "3 types:(+ve -ve) ,(linear nonlinear), (simple,multiple,partial)"
      ]
    },
    {
      "cell_type": "code",
      "execution_count": null,
      "metadata": {
        "colab": {
          "base_uri": "https://localhost:8080/",
          "height": 564
        },
        "id": "xCxAkNptIo0e",
        "outputId": "73c1038d-ee1f-4333-a8ee-5cea314af154"
      },
      "outputs": [
        {
          "data": {
            "image/png": "[encoded data removed]",
            "text/plain": [
              "<Figure size 1152x432 with 2 Axes>"
            ]
          },
          "metadata": {
            "needs_background": "light"
          },
          "output_type": "display_data"
        }
      ],
      "source": [
        "plt.figure(figsize=(16, 6))\n",
        "# Store heatmap object in a variable to easily access it when you want to include more features (such as title).\n",
        "# Set the range of values to be displayed on the colormap from -1 to 1, and set the annotation to True to display the correlation values on the heatmap.\n",
        "heatmap = sb.heatmap(data.corr(), vmin=-1, vmax=1, annot=True)\n",
        "# Give a title to the heatmap. Pad defines the distance of the title from the top of the heatmap.\n",
        "heatmap.set_title('Correlation Heatmap', fontdict={'fontsize':12}, pad=12);"
      ]
    },
    {
      "cell_type": "code",
      "execution_count": null,
      "metadata": {
        "colab": {
          "base_uri": "https://localhost:8080/",
          "height": 485
        },
        "id": "MlE5yYb-swUD",
        "outputId": "419f7e4b-c0bf-4c82-810a-89a0acc0ffb3"
      },
      "outputs": [
        {
          "data": {
            "text/html": [
              "\n",
              "  <div id=\"df-ec2d739e-0fc4-4dfd-8ee4-88ffcdd7a795\">\n",
              "    <div class=\"colab-df-container\">\n",
              "      <div>\n",
              "<style scoped>\n",
              "    .dataframe tbody tr th:only-of-type {\n",
              "        vertical-align: middle;\n",
              "    }\n",
              "\n",
              "    .dataframe tbody tr th {\n",
              "        vertical-align: top;\n",
              "    }\n",
              "\n",
              "    .dataframe thead th {\n",
              "        text-align: right;\n",
              "    }\n",
              "</style>\n",
              "<table border=\"1\" class=\"dataframe\">\n",
              "  <thead>\n",
              "    <tr style=\"text-align: right;\">\n",
              "      <th></th>\n",
              "      <th>ID</th>\n",
              "      <th>Month of absence</th>\n",
              "      <th>Day of the week</th>\n",
              "      <th>Seasons</th>\n",
              "      <th>Transportation expense</th>\n",
              "      <th>Distance from Residence to College</th>\n",
              "      <th>Weight</th>\n",
              "      <th>Height</th>\n",
              "      <th>Body mass index</th>\n",
              "      <th>Absenteeism time in hours</th>\n",
              "    </tr>\n",
              "  </thead>\n",
              "  <tbody>\n",
              "    <tr>\n",
              "      <th>0</th>\n",
              "      <td>11</td>\n",
              "      <td>7</td>\n",
              "      <td>3</td>\n",
              "      <td>1</td>\n",
              "      <td>289</td>\n",
              "      <td>36.0</td>\n",
              "      <td>90</td>\n",
              "      <td>172</td>\n",
              "      <td>30</td>\n",
              "      <td>4</td>\n",
              "    </tr>\n",
              "    <tr>\n",
              "      <th>1</th>\n",
              "      <td>36</td>\n",
              "      <td>7</td>\n",
              "      <td>3</td>\n",
              "      <td>1</td>\n",
              "      <td>118</td>\n",
              "      <td>13.0</td>\n",
              "      <td>98</td>\n",
              "      <td>178</td>\n",
              "      <td>31</td>\n",
              "      <td>0</td>\n",
              "    </tr>\n",
              "    <tr>\n",
              "      <th>2</th>\n",
              "      <td>3</td>\n",
              "      <td>7</td>\n",
              "      <td>4</td>\n",
              "      <td>1</td>\n",
              "      <td>179</td>\n",
              "      <td>51.0</td>\n",
              "      <td>89</td>\n",
              "      <td>170</td>\n",
              "      <td>31</td>\n",
              "      <td>2</td>\n",
              "    </tr>\n",
              "    <tr>\n",
              "      <th>3</th>\n",
              "      <td>7</td>\n",
              "      <td>7</td>\n",
              "      <td>5</td>\n",
              "      <td>1</td>\n",
              "      <td>279</td>\n",
              "      <td>5.0</td>\n",
              "      <td>68</td>\n",
              "      <td>168</td>\n",
              "      <td>24</td>\n",
              "      <td>4</td>\n",
              "    </tr>\n",
              "    <tr>\n",
              "      <th>4</th>\n",
              "      <td>11</td>\n",
              "      <td>7</td>\n",
              "      <td>5</td>\n",
              "      <td>1</td>\n",
              "      <td>289</td>\n",
              "      <td>36.0</td>\n",
              "      <td>90</td>\n",
              "      <td>172</td>\n",
              "      <td>30</td>\n",
              "      <td>2</td>\n",
              "    </tr>\n",
              "    <tr>\n",
              "      <th>...</th>\n",
              "      <td>...</td>\n",
              "      <td>...</td>\n",
              "      <td>...</td>\n",
              "      <td>...</td>\n",
              "      <td>...</td>\n",
              "      <td>...</td>\n",
              "      <td>...</td>\n",
              "      <td>...</td>\n",
              "      <td>...</td>\n",
              "      <td>...</td>\n",
              "    </tr>\n",
              "    <tr>\n",
              "      <th>735</th>\n",
              "      <td>11</td>\n",
              "      <td>7</td>\n",
              "      <td>3</td>\n",
              "      <td>1</td>\n",
              "      <td>289</td>\n",
              "      <td>36.0</td>\n",
              "      <td>90</td>\n",
              "      <td>172</td>\n",
              "      <td>30</td>\n",
              "      <td>8</td>\n",
              "    </tr>\n",
              "    <tr>\n",
              "      <th>736</th>\n",
              "      <td>1</td>\n",
              "      <td>7</td>\n",
              "      <td>3</td>\n",
              "      <td>1</td>\n",
              "      <td>235</td>\n",
              "      <td>11.0</td>\n",
              "      <td>88</td>\n",
              "      <td>172</td>\n",
              "      <td>29</td>\n",
              "      <td>4</td>\n",
              "    </tr>\n",
              "    <tr>\n",
              "      <th>737</th>\n",
              "      <td>4</td>\n",
              "      <td>0</td>\n",
              "      <td>3</td>\n",
              "      <td>1</td>\n",
              "      <td>118</td>\n",
              "      <td>14.0</td>\n",
              "      <td>98</td>\n",
              "      <td>170</td>\n",
              "      <td>34</td>\n",
              "      <td>0</td>\n",
              "    </tr>\n",
              "    <tr>\n",
              "      <th>738</th>\n",
              "      <td>8</td>\n",
              "      <td>0</td>\n",
              "      <td>4</td>\n",
              "      <td>2</td>\n",
              "      <td>231</td>\n",
              "      <td>35.0</td>\n",
              "      <td>100</td>\n",
              "      <td>170</td>\n",
              "      <td>35</td>\n",
              "      <td>0</td>\n",
              "    </tr>\n",
              "    <tr>\n",
              "      <th>739</th>\n",
              "      <td>35</td>\n",
              "      <td>0</td>\n",
              "      <td>6</td>\n",
              "      <td>3</td>\n",
              "      <td>179</td>\n",
              "      <td>45.0</td>\n",
              "      <td>77</td>\n",
              "      <td>175</td>\n",
              "      <td>25</td>\n",
              "      <td>0</td>\n",
              "    </tr>\n",
              "  </tbody>\n",
              "</table>\n",
              "<p>740 rows × 10 columns</p>\n",
              "</div>\n",
              "      <button class=\"colab-df-convert\" onclick=\"convertToInteractive('df-ec2d739e-0fc4-4dfd-8ee4-88ffcdd7a795')\"\n",
              "              title=\"Convert this dataframe to an interactive table.\"\n",
              "              style=\"display:none;\">\n",
              "        \n",
              "  <svg xmlns=\"http://www.w3.org/2000/svg\" height=\"24px\"viewBox=\"0 0 24 24\"\n",
              "       width=\"24px\">\n",
              "    <path d=\"M0 0h24v24H0V0z\" fill=\"none\"/>\n",
              "    <path d=\"M18.56 5.44l.94 2.06.94-2.06 2.06-.94-2.06-.94-.94-2.06-.94 2.06-2.06.94zm-11 1L8.5 8.5l.94-2.06 2.06-.94-2.06-.94L8.5 2.5l-.94 2.06-2.06.94zm10 10l.94 2.06.94-2.06 2.06-.94-2.06-.94-.94-2.06-.94 2.06-2.06.94z\"/><path d=\"M17.41 7.96l-1.37-1.37c-.4-.4-.92-.59-1.43-.59-.52 0-1.04.2-1.43.59L10.3 9.45l-7.72 7.72c-.78.78-.78 2.05 0 2.83L4 21.41c.39.39.9.59 1.41.59.51 0 1.02-.2 1.41-.59l7.78-7.78 2.81-2.81c.8-.78.8-2.07 0-2.86zM5.41 20L4 18.59l7.72-7.72 1.47 1.35L5.41 20z\"/>\n",
              "  </svg>\n",
              "      </button>\n",
              "      \n",
              "  <style>\n",
              "    .colab-df-container {\n",
              "      display:flex;\n",
              "      flex-wrap:wrap;\n",
              "      gap: 12px;\n",
              "    }\n",
              "\n",
              "    .colab-df-convert {\n",
              "      background-color: #E8F0FE;\n",
              "      border: none;\n",
              "      border-radius: 50%;\n",
              "      cursor: pointer;\n",
              "      display: none;\n",
              "      fill: #1967D2;\n",
              "      height: 32px;\n",
              "      padding: 0 0 0 0;\n",
              "      width: 32px;\n",
              "    }\n",
              "\n",
              "    .colab-df-convert:hover {\n",
              "      background-color: #E2EBFA;\n",
              "      box-shadow: 0px 1px 2px rgba(60, 64, 67, 0.3), 0px 1px 3px 1px rgba(60, 64, 67, 0.15);\n",
              "      fill: #174EA6;\n",
              "    }\n",
              "\n",
              "    [theme=dark] .colab-df-convert {\n",
              "      background-color: #3B4455;\n",
              "      fill: #D2E3FC;\n",
              "    }\n",
              "\n",
              "    [theme=dark] .colab-df-convert:hover {\n",
              "      background-color: #434B5C;\n",
              "      box-shadow: 0px 1px 3px 1px rgba(0, 0, 0, 0.15);\n",
              "      filter: drop-shadow(0px 1px 2px rgba(0, 0, 0, 0.3));\n",
              "      fill: #FFFFFF;\n",
              "    }\n",
              "  </style>\n",
              "\n",
              "      <script>\n",
              "        const buttonEl =\n",
              "          document.querySelector('#df-ec2d739e-0fc4-4dfd-8ee4-88ffcdd7a795 button.colab-df-convert');\n",
              "        buttonEl.style.display =\n",
              "          google.colab.kernel.accessAllowed ? 'block' : 'none';\n",
              "\n",
              "        async function convertToInteractive(key) {\n",
              "          const element = document.querySelector('#df-ec2d739e-0fc4-4dfd-8ee4-88ffcdd7a795');\n",
              "          const dataTable =\n",
              "            await google.colab.kernel.invokeFunction('convertToInteractive',\n",
              "                                                     [key], {});\n",
              "          if (!dataTable) return;\n",
              "\n",
              "          const docLinkHtml = 'Like what you see? Visit the ' +\n",
              "            '<a target=\"_blank\" href=https://colab.research.google.com/notebooks/data_table.ipynb>data table notebook</a>'\n",
              "            + ' to learn more about interactive tables.';\n",
              "          element.innerHTML = '';\n",
              "          dataTable['output_type'] = 'display_data';\n",
              "          await google.colab.output.renderOutput(dataTable, element);\n",
              "          const docLink = document.createElement('div');\n",
              "          docLink.innerHTML = docLinkHtml;\n",
              "          element.appendChild(docLink);\n",
              "        }\n",
              "      </script>\n",
              "    </div>\n",
              "  </div>\n",
              "  "
            ],
            "text/plain": [
              "     ID  Month of absence  Day of the week  Seasons  Transportation expense  \\\n",
              "0    11                 7                3        1                     289   \n",
              "1    36                 7                3        1                     118   \n",
              "2     3                 7                4        1                     179   \n",
              "3     7                 7                5        1                     279   \n",
              "4    11                 7                5        1                     289   \n",
              "..   ..               ...              ...      ...                     ...   \n",
              "735  11                 7                3        1                     289   \n",
              "736   1                 7                3        1                     235   \n",
              "737   4                 0                3        1                     118   \n",
              "738   8                 0                4        2                     231   \n",
              "739  35                 0                6        3                     179   \n",
              "\n",
              "     Distance from Residence to College  Weight  Height  Body mass index  \\\n",
              "0                                  36.0      90     172               30   \n",
              "1                                  13.0      98     178               31   \n",
              "2                                  51.0      89     170               31   \n",
              "3                                   5.0      68     168               24   \n",
              "4                                  36.0      90     172               30   \n",
              "..                                  ...     ...     ...              ...   \n",
              "735                                36.0      90     172               30   \n",
              "736                                11.0      88     172               29   \n",
              "737                                14.0      98     170               34   \n",
              "738                                35.0     100     170               35   \n",
              "739                                45.0      77     175               25   \n",
              "\n",
              "     Absenteeism time in hours  \n",
              "0                            4  \n",
              "1                            0  \n",
              "2                            2  \n",
              "3                            4  \n",
              "4                            2  \n",
              "..                         ...  \n",
              "735                          8  \n",
              "736                          4  \n",
              "737                          0  \n",
              "738                          0  \n",
              "739                          0  \n",
              "\n",
              "[740 rows x 10 columns]"
            ]
          },
          "execution_count": 36,
          "metadata": {},
          "output_type": "execute_result"
        }
      ],
      "source": [
        "data"
      ]
    },
    {
      "cell_type": "markdown",
      "metadata": {
        "id": "0zgznwf2sz0j"
      },
      "source": [
        "#**Modelling**\n",
        "In this section, we will implementing our first model- Linear Regression! After learning about correlations and plotting the same on the heatmap, it is time we choose the most relevant features for our analysis.\n",
        "\n",
        "**Reference Articles:**\n",
        "1. https://pandas.pydata.org/docs/reference/api/pandas.DataFrame.drop.html\n",
        "2. https://scikit-learn.org/stable/modules/generated/sklearn.model_selection.train_test_split.html\n",
        "3. https://towardsdatascience.com/an-introduction-to-linear-regression-for-data-science-9056bbcdf675\n",
        "4. https://scikit-learn.org/stable/modules/generated/sklearn.metrics.r2_score.html\n"
      ]
    },
    {
      "cell_type": "markdown",
      "metadata": {
        "id": "CTxYmFDbs8pq"
      },
      "source": [
        "**Q3. Drop the unnecessary columns from the dataset based on your correlation analysis to avoid multicollinearity.**"
      ]
    },
    {
      "cell_type": "code",
      "execution_count": null,
      "metadata": {
        "id": "cYO0YKuVtA4W"
      },
      "outputs": [],
      "source": [
        "data = data.drop(\"Weight\", axis=1)"
      ]
    },
    {
      "cell_type": "markdown",
      "metadata": {
        "id": "dizhgWZJtTrZ"
      },
      "source": [
        "\n",
        "**Q3. Split the dataset into Training and Testing data**                    \n",
        "\n",
        "Hint: X- Matrix of necessary features & y- Matrix of the dependent variable\n",
        "\n",
        "\n",
        "\n",
        "\n",
        "\n",
        "\n"
      ]
    },
    {
      "cell_type": "code",
      "execution_count": null,
      "metadata": {
        "id": "WTVwGQZqtWnU"
      },
      "outputs": [],
      "source": [
        "\n",
        "import pandas as pd\n",
        "from sklearn.linear_model import LinearRegression\n",
        "from sklearn.model_selection import train_test_split\n",
        " \n",
        "# read the dataset\n",
        "df = pd.read_csv('/content/Absenteeism_Inductions.csv')\n",
        " \n"
      ]
    },
    {
      "cell_type": "code",
      "execution_count": null,
      "metadata": {
        "colab": {
          "base_uri": "https://localhost:8080/"
        },
        "id": "tOORmxN1Gg6N",
        "outputId": "edc386bd-bd33-4df4-abb3-554f112a3ead"
      },
      "outputs": [
        {
          "data": {
            "text/plain": [
              "ID     Month of absence  Day of the week  Seasons  Transportation expense  Distance from Residence to College  Weight  Height  Body mass index  Absenteeism time in hours\n",
              "False  False             False            False    False                   False                               False   False   False            False                        740\n",
              "dtype: int64"
            ]
          },
          "execution_count": 41,
          "metadata": {},
          "output_type": "execute_result"
        }
      ],
      "source": [
        "imputer=SimpleImputer(strategy='mean',missing_values=np.nan)\n",
        "imputer = imputer.fit(df[['Distance from Residence to College']])\n",
        "df[['Distance from Residence to College']]=imputer.transform(df[['Distance from Residence to College']])\n",
        "df.isnull().value_counts()"
      ]
    },
    {
      "cell_type": "code",
      "execution_count": null,
      "metadata": {
        "id": "Wf_BnbHhGaz1"
      },
      "outputs": [],
      "source": [
        "# get the locations\n",
        "X = df.iloc[:, :-1]\n",
        "y = df.iloc[:, -1]\n",
        "# X = X.drop('Body mass index', inplace=True, axis= 'columns')\n",
        "\n",
        "# split the dataset\n",
        "X_train, X_test, y_train, y_test = train_test_split(\n",
        "    X, y, test_size=0.05, random_state=100)"
      ]
    },
    {
      "cell_type": "code",
      "execution_count": null,
      "metadata": {
        "colab": {
          "base_uri": "https://localhost:8080/"
        },
        "id": "UHwH8luvtHrQ",
        "outputId": "0b0c4bd1-9014-487b-9138-a51a2e1e30ec"
      },
      "outputs": [
        {
          "name": "stdout",
          "output_type": "stream",
          "text": [
            "     ID  Month of absence  Day of the week  Seasons  Transportation expense  \\\n",
            "0    11                 7                3        1                     289   \n",
            "1    36                 7                3        1                     118   \n",
            "2     3                 7                4        1                     179   \n",
            "3     7                 7                5        1                     279   \n",
            "4    11                 7                5        1                     289   \n",
            "..   ..               ...              ...      ...                     ...   \n",
            "735  11                 7                3        1                     289   \n",
            "736   1                 7                3        1                     235   \n",
            "737   4                 0                3        1                     118   \n",
            "738   8                 0                4        2                     231   \n",
            "739  35                 0                6        3                     179   \n",
            "\n",
            "     Distance from Residence to College  Weight  Height  Body mass index  \n",
            "0                                  36.0      90     172               30  \n",
            "1                                  13.0      98     178               31  \n",
            "2                                  51.0      89     170               31  \n",
            "3                                   5.0      68     168               24  \n",
            "4                                  36.0      90     172               30  \n",
            "..                                  ...     ...     ...              ...  \n",
            "735                                36.0      90     172               30  \n",
            "736                                11.0      88     172               29  \n",
            "737                                14.0      98     170               34  \n",
            "738                                35.0     100     170               35  \n",
            "739                                45.0      77     175               25  \n",
            "\n",
            "[740 rows x 9 columns]\n"
          ]
        }
      ],
      "source": [
        "print(X) #To see how the matrix of features looks like."
      ]
    },
    {
      "cell_type": "code",
      "execution_count": null,
      "metadata": {
        "colab": {
          "base_uri": "https://localhost:8080/"
        },
        "id": "CO9H_IO3tI2L",
        "outputId": "910acfaa-d3ab-472a-a3ca-eed89b308309"
      },
      "outputs": [
        {
          "name": "stdout",
          "output_type": "stream",
          "text": [
            "0      4\n",
            "1      0\n",
            "2      2\n",
            "3      4\n",
            "4      2\n",
            "      ..\n",
            "735    8\n",
            "736    4\n",
            "737    0\n",
            "738    0\n",
            "739    0\n",
            "Name: Absenteeism time in hours, Length: 740, dtype: int64\n"
          ]
        }
      ],
      "source": [
        "print(y) #To see how the matrix of the dependent variable looks like."
      ]
    },
    {
      "cell_type": "code",
      "execution_count": null,
      "metadata": {
        "colab": {
          "base_uri": "https://localhost:8080/",
          "height": 468
        },
        "id": "Eak6jLGlwHFu",
        "outputId": "73ca081f-9b00-4133-a555-4124daec48b9"
      },
      "outputs": [
        {
          "data": {
            "text/html": [
              "\n",
              "  <div id=\"df-3cfb058c-d807-4634-9d22-ed75891a4603\">\n",
              "    <div class=\"colab-df-container\">\n",
              "      <div>\n",
              "<style scoped>\n",
              "    .dataframe tbody tr th:only-of-type {\n",
              "        vertical-align: middle;\n",
              "    }\n",
              "\n",
              "    .dataframe tbody tr th {\n",
              "        vertical-align: top;\n",
              "    }\n",
              "\n",
              "    .dataframe thead th {\n",
              "        text-align: right;\n",
              "    }\n",
              "</style>\n",
              "<table border=\"1\" class=\"dataframe\">\n",
              "  <thead>\n",
              "    <tr style=\"text-align: right;\">\n",
              "      <th></th>\n",
              "      <th>ID</th>\n",
              "      <th>Month of absence</th>\n",
              "      <th>Day of the week</th>\n",
              "      <th>Seasons</th>\n",
              "      <th>Transportation expense</th>\n",
              "      <th>Distance from Residence to College</th>\n",
              "      <th>Weight</th>\n",
              "      <th>Height</th>\n",
              "      <th>Body mass index</th>\n",
              "    </tr>\n",
              "  </thead>\n",
              "  <tbody>\n",
              "    <tr>\n",
              "      <th>267</th>\n",
              "      <td>1</td>\n",
              "      <td>8</td>\n",
              "      <td>5</td>\n",
              "      <td>1</td>\n",
              "      <td>235</td>\n",
              "      <td>11.0</td>\n",
              "      <td>88</td>\n",
              "      <td>172</td>\n",
              "      <td>29</td>\n",
              "    </tr>\n",
              "    <tr>\n",
              "      <th>424</th>\n",
              "      <td>34</td>\n",
              "      <td>4</td>\n",
              "      <td>4</td>\n",
              "      <td>3</td>\n",
              "      <td>118</td>\n",
              "      <td>10.0</td>\n",
              "      <td>83</td>\n",
              "      <td>172</td>\n",
              "      <td>28</td>\n",
              "    </tr>\n",
              "    <tr>\n",
              "      <th>623</th>\n",
              "      <td>3</td>\n",
              "      <td>3</td>\n",
              "      <td>4</td>\n",
              "      <td>2</td>\n",
              "      <td>179</td>\n",
              "      <td>51.0</td>\n",
              "      <td>89</td>\n",
              "      <td>170</td>\n",
              "      <td>31</td>\n",
              "    </tr>\n",
              "    <tr>\n",
              "      <th>197</th>\n",
              "      <td>20</td>\n",
              "      <td>4</td>\n",
              "      <td>6</td>\n",
              "      <td>3</td>\n",
              "      <td>260</td>\n",
              "      <td>50.0</td>\n",
              "      <td>65</td>\n",
              "      <td>168</td>\n",
              "      <td>23</td>\n",
              "    </tr>\n",
              "    <tr>\n",
              "      <th>448</th>\n",
              "      <td>3</td>\n",
              "      <td>6</td>\n",
              "      <td>2</td>\n",
              "      <td>3</td>\n",
              "      <td>179</td>\n",
              "      <td>51.0</td>\n",
              "      <td>89</td>\n",
              "      <td>170</td>\n",
              "      <td>31</td>\n",
              "    </tr>\n",
              "    <tr>\n",
              "      <th>...</th>\n",
              "      <td>...</td>\n",
              "      <td>...</td>\n",
              "      <td>...</td>\n",
              "      <td>...</td>\n",
              "      <td>...</td>\n",
              "      <td>...</td>\n",
              "      <td>...</td>\n",
              "      <td>...</td>\n",
              "      <td>...</td>\n",
              "    </tr>\n",
              "    <tr>\n",
              "      <th>578</th>\n",
              "      <td>22</td>\n",
              "      <td>1</td>\n",
              "      <td>2</td>\n",
              "      <td>2</td>\n",
              "      <td>179</td>\n",
              "      <td>26.0</td>\n",
              "      <td>56</td>\n",
              "      <td>171</td>\n",
              "      <td>19</td>\n",
              "    </tr>\n",
              "    <tr>\n",
              "      <th>53</th>\n",
              "      <td>34</td>\n",
              "      <td>9</td>\n",
              "      <td>3</td>\n",
              "      <td>4</td>\n",
              "      <td>118</td>\n",
              "      <td>10.0</td>\n",
              "      <td>83</td>\n",
              "      <td>172</td>\n",
              "      <td>28</td>\n",
              "    </tr>\n",
              "    <tr>\n",
              "      <th>350</th>\n",
              "      <td>1</td>\n",
              "      <td>12</td>\n",
              "      <td>5</td>\n",
              "      <td>4</td>\n",
              "      <td>235</td>\n",
              "      <td>11.0</td>\n",
              "      <td>88</td>\n",
              "      <td>172</td>\n",
              "      <td>29</td>\n",
              "    </tr>\n",
              "    <tr>\n",
              "      <th>79</th>\n",
              "      <td>20</td>\n",
              "      <td>10</td>\n",
              "      <td>6</td>\n",
              "      <td>4</td>\n",
              "      <td>260</td>\n",
              "      <td>50.0</td>\n",
              "      <td>65</td>\n",
              "      <td>168</td>\n",
              "      <td>23</td>\n",
              "    </tr>\n",
              "    <tr>\n",
              "      <th>520</th>\n",
              "      <td>3</td>\n",
              "      <td>10</td>\n",
              "      <td>4</td>\n",
              "      <td>4</td>\n",
              "      <td>179</td>\n",
              "      <td>51.0</td>\n",
              "      <td>89</td>\n",
              "      <td>170</td>\n",
              "      <td>31</td>\n",
              "    </tr>\n",
              "  </tbody>\n",
              "</table>\n",
              "<p>703 rows × 9 columns</p>\n",
              "</div>\n",
              "      <button class=\"colab-df-convert\" onclick=\"convertToInteractive('df-3cfb058c-d807-4634-9d22-ed75891a4603')\"\n",
              "              title=\"Convert this dataframe to an interactive table.\"\n",
              "              style=\"display:none;\">\n",
              "        \n",
              "  <svg xmlns=\"http://www.w3.org/2000/svg\" height=\"24px\"viewBox=\"0 0 24 24\"\n",
              "       width=\"24px\">\n",
              "    <path d=\"M0 0h24v24H0V0z\" fill=\"none\"/>\n",
              "    <path d=\"M18.56 5.44l.94 2.06.94-2.06 2.06-.94-2.06-.94-.94-2.06-.94 2.06-2.06.94zm-11 1L8.5 8.5l.94-2.06 2.06-.94-2.06-.94L8.5 2.5l-.94 2.06-2.06.94zm10 10l.94 2.06.94-2.06 2.06-.94-2.06-.94-.94-2.06-.94 2.06-2.06.94z\"/><path d=\"M17.41 7.96l-1.37-1.37c-.4-.4-.92-.59-1.43-.59-.52 0-1.04.2-1.43.59L10.3 9.45l-7.72 7.72c-.78.78-.78 2.05 0 2.83L4 21.41c.39.39.9.59 1.41.59.51 0 1.02-.2 1.41-.59l7.78-7.78 2.81-2.81c.8-.78.8-2.07 0-2.86zM5.41 20L4 18.59l7.72-7.72 1.47 1.35L5.41 20z\"/>\n",
              "  </svg>\n",
              "      </button>\n",
              "      \n",
              "  <style>\n",
              "    .colab-df-container {\n",
              "      display:flex;\n",
              "      flex-wrap:wrap;\n",
              "      gap: 12px;\n",
              "    }\n",
              "\n",
              "    .colab-df-convert {\n",
              "      background-color: #E8F0FE;\n",
              "      border: none;\n",
              "      border-radius: 50%;\n",
              "      cursor: pointer;\n",
              "      display: none;\n",
              "      fill: #1967D2;\n",
              "      height: 32px;\n",
              "      padding: 0 0 0 0;\n",
              "      width: 32px;\n",
              "    }\n",
              "\n",
              "    .colab-df-convert:hover {\n",
              "      background-color: #E2EBFA;\n",
              "      box-shadow: 0px 1px 2px rgba(60, 64, 67, 0.3), 0px 1px 3px 1px rgba(60, 64, 67, 0.15);\n",
              "      fill: #174EA6;\n",
              "    }\n",
              "\n",
              "    [theme=dark] .colab-df-convert {\n",
              "      background-color: #3B4455;\n",
              "      fill: #D2E3FC;\n",
              "    }\n",
              "\n",
              "    [theme=dark] .colab-df-convert:hover {\n",
              "      background-color: #434B5C;\n",
              "      box-shadow: 0px 1px 3px 1px rgba(0, 0, 0, 0.15);\n",
              "      filter: drop-shadow(0px 1px 2px rgba(0, 0, 0, 0.3));\n",
              "      fill: #FFFFFF;\n",
              "    }\n",
              "  </style>\n",
              "\n",
              "      <script>\n",
              "        const buttonEl =\n",
              "          document.querySelector('#df-3cfb058c-d807-4634-9d22-ed75891a4603 button.colab-df-convert');\n",
              "        buttonEl.style.display =\n",
              "          google.colab.kernel.accessAllowed ? 'block' : 'none';\n",
              "\n",
              "        async function convertToInteractive(key) {\n",
              "          const element = document.querySelector('#df-3cfb058c-d807-4634-9d22-ed75891a4603');\n",
              "          const dataTable =\n",
              "            await google.colab.kernel.invokeFunction('convertToInteractive',\n",
              "                                                     [key], {});\n",
              "          if (!dataTable) return;\n",
              "\n",
              "          const docLinkHtml = 'Like what you see? Visit the ' +\n",
              "            '<a target=\"_blank\" href=https://colab.research.google.com/notebooks/data_table.ipynb>data table notebook</a>'\n",
              "            + ' to learn more about interactive tables.';\n",
              "          element.innerHTML = '';\n",
              "          dataTable['output_type'] = 'display_data';\n",
              "          await google.colab.output.renderOutput(dataTable, element);\n",
              "          const docLink = document.createElement('div');\n",
              "          docLink.innerHTML = docLinkHtml;\n",
              "          element.appendChild(docLink);\n",
              "        }\n",
              "      </script>\n",
              "    </div>\n",
              "  </div>\n",
              "  "
            ],
            "text/plain": [
              "     ID  Month of absence  Day of the week  Seasons  Transportation expense  \\\n",
              "267   1                 8                5        1                     235   \n",
              "424  34                 4                4        3                     118   \n",
              "623   3                 3                4        2                     179   \n",
              "197  20                 4                6        3                     260   \n",
              "448   3                 6                2        3                     179   \n",
              "..   ..               ...              ...      ...                     ...   \n",
              "578  22                 1                2        2                     179   \n",
              "53   34                 9                3        4                     118   \n",
              "350   1                12                5        4                     235   \n",
              "79   20                10                6        4                     260   \n",
              "520   3                10                4        4                     179   \n",
              "\n",
              "     Distance from Residence to College  Weight  Height  Body mass index  \n",
              "267                                11.0      88     172               29  \n",
              "424                                10.0      83     172               28  \n",
              "623                                51.0      89     170               31  \n",
              "197                                50.0      65     168               23  \n",
              "448                                51.0      89     170               31  \n",
              "..                                  ...     ...     ...              ...  \n",
              "578                                26.0      56     171               19  \n",
              "53                                 10.0      83     172               28  \n",
              "350                                11.0      88     172               29  \n",
              "79                                 50.0      65     168               23  \n",
              "520                                51.0      89     170               31  \n",
              "\n",
              "[703 rows x 9 columns]"
            ]
          },
          "execution_count": 352,
          "metadata": {},
          "output_type": "execute_result"
        }
      ],
      "source": [
        "X_train"
      ]
    },
    {
      "cell_type": "code",
      "execution_count": null,
      "metadata": {
        "colab": {
          "base_uri": "https://localhost:8080/"
        },
        "id": "6-cfQW-6wW5y",
        "outputId": "5b2e4d13-57eb-4737-de38-d47dccdbd1b1"
      },
      "outputs": [
        {
          "data": {
            "text/plain": [
              "267     8\n",
              "424     2\n",
              "623     2\n",
              "197    56\n",
              "448    24\n",
              "       ..\n",
              "578     2\n",
              "53      2\n",
              "350     2\n",
              "79      3\n",
              "520     3\n",
              "Name: Absenteeism time in hours, Length: 703, dtype: int64"
            ]
          },
          "execution_count": 353,
          "metadata": {},
          "output_type": "execute_result"
        }
      ],
      "source": [
        "y_train"
      ]
    },
    {
      "cell_type": "markdown",
      "metadata": {
        "id": "ZpDLkSoCxQyV"
      },
      "source": [
        "total 740 rows and we defined 5 percent as test data so in below table 37 rows are there i.e 5% of 740"
      ]
    },
    {
      "cell_type": "code",
      "execution_count": null,
      "metadata": {
        "colab": {
          "base_uri": "https://localhost:8080/",
          "height": 1000
        },
        "id": "XA48s8hKw9da",
        "outputId": "e1f27929-8c59-48d3-b10e-dc678158aa49"
      },
      "outputs": [
        {
          "data": {
            "text/html": [
              "\n",
              "  <div id=\"df-435868b4-8a5e-4bec-93d6-8a86e74ffa8e\">\n",
              "    <div class=\"colab-df-container\">\n",
              "      <div>\n",
              "<style scoped>\n",
              "    .dataframe tbody tr th:only-of-type {\n",
              "        vertical-align: middle;\n",
              "    }\n",
              "\n",
              "    .dataframe tbody tr th {\n",
              "        vertical-align: top;\n",
              "    }\n",
              "\n",
              "    .dataframe thead th {\n",
              "        text-align: right;\n",
              "    }\n",
              "</style>\n",
              "<table border=\"1\" class=\"dataframe\">\n",
              "  <thead>\n",
              "    <tr style=\"text-align: right;\">\n",
              "      <th></th>\n",
              "      <th>ID</th>\n",
              "      <th>Month of absence</th>\n",
              "      <th>Day of the week</th>\n",
              "      <th>Seasons</th>\n",
              "      <th>Transportation expense</th>\n",
              "      <th>Distance from Residence to College</th>\n",
              "      <th>Weight</th>\n",
              "      <th>Height</th>\n",
              "      <th>Body mass index</th>\n",
              "    </tr>\n",
              "  </thead>\n",
              "  <tbody>\n",
              "    <tr>\n",
              "      <th>569</th>\n",
              "      <td>14</td>\n",
              "      <td>12</td>\n",
              "      <td>3</td>\n",
              "      <td>2</td>\n",
              "      <td>155</td>\n",
              "      <td>12.000000</td>\n",
              "      <td>95</td>\n",
              "      <td>196</td>\n",
              "      <td>25</td>\n",
              "    </tr>\n",
              "    <tr>\n",
              "      <th>327</th>\n",
              "      <td>34</td>\n",
              "      <td>11</td>\n",
              "      <td>4</td>\n",
              "      <td>4</td>\n",
              "      <td>118</td>\n",
              "      <td>29.637026</td>\n",
              "      <td>83</td>\n",
              "      <td>172</td>\n",
              "      <td>28</td>\n",
              "    </tr>\n",
              "    <tr>\n",
              "      <th>277</th>\n",
              "      <td>19</td>\n",
              "      <td>9</td>\n",
              "      <td>3</td>\n",
              "      <td>1</td>\n",
              "      <td>291</td>\n",
              "      <td>50.000000</td>\n",
              "      <td>65</td>\n",
              "      <td>169</td>\n",
              "      <td>23</td>\n",
              "    </tr>\n",
              "    <tr>\n",
              "      <th>19</th>\n",
              "      <td>33</td>\n",
              "      <td>8</td>\n",
              "      <td>4</td>\n",
              "      <td>1</td>\n",
              "      <td>248</td>\n",
              "      <td>25.000000</td>\n",
              "      <td>86</td>\n",
              "      <td>165</td>\n",
              "      <td>32</td>\n",
              "    </tr>\n",
              "    <tr>\n",
              "      <th>423</th>\n",
              "      <td>3</td>\n",
              "      <td>4</td>\n",
              "      <td>2</td>\n",
              "      <td>3</td>\n",
              "      <td>179</td>\n",
              "      <td>51.000000</td>\n",
              "      <td>89</td>\n",
              "      <td>170</td>\n",
              "      <td>31</td>\n",
              "    </tr>\n",
              "    <tr>\n",
              "      <th>519</th>\n",
              "      <td>13</td>\n",
              "      <td>10</td>\n",
              "      <td>3</td>\n",
              "      <td>4</td>\n",
              "      <td>369</td>\n",
              "      <td>17.000000</td>\n",
              "      <td>70</td>\n",
              "      <td>169</td>\n",
              "      <td>25</td>\n",
              "    </tr>\n",
              "    <tr>\n",
              "      <th>48</th>\n",
              "      <td>20</td>\n",
              "      <td>9</td>\n",
              "      <td>6</td>\n",
              "      <td>1</td>\n",
              "      <td>260</td>\n",
              "      <td>50.000000</td>\n",
              "      <td>65</td>\n",
              "      <td>168</td>\n",
              "      <td>23</td>\n",
              "    </tr>\n",
              "    <tr>\n",
              "      <th>395</th>\n",
              "      <td>1</td>\n",
              "      <td>3</td>\n",
              "      <td>2</td>\n",
              "      <td>2</td>\n",
              "      <td>235</td>\n",
              "      <td>11.000000</td>\n",
              "      <td>88</td>\n",
              "      <td>172</td>\n",
              "      <td>29</td>\n",
              "    </tr>\n",
              "    <tr>\n",
              "      <th>235</th>\n",
              "      <td>28</td>\n",
              "      <td>6</td>\n",
              "      <td>5</td>\n",
              "      <td>1</td>\n",
              "      <td>225</td>\n",
              "      <td>26.000000</td>\n",
              "      <td>69</td>\n",
              "      <td>169</td>\n",
              "      <td>24</td>\n",
              "    </tr>\n",
              "    <tr>\n",
              "      <th>598</th>\n",
              "      <td>3</td>\n",
              "      <td>2</td>\n",
              "      <td>5</td>\n",
              "      <td>2</td>\n",
              "      <td>179</td>\n",
              "      <td>51.000000</td>\n",
              "      <td>89</td>\n",
              "      <td>170</td>\n",
              "      <td>31</td>\n",
              "    </tr>\n",
              "    <tr>\n",
              "      <th>334</th>\n",
              "      <td>20</td>\n",
              "      <td>11</td>\n",
              "      <td>4</td>\n",
              "      <td>4</td>\n",
              "      <td>260</td>\n",
              "      <td>50.000000</td>\n",
              "      <td>65</td>\n",
              "      <td>168</td>\n",
              "      <td>23</td>\n",
              "    </tr>\n",
              "    <tr>\n",
              "      <th>513</th>\n",
              "      <td>32</td>\n",
              "      <td>10</td>\n",
              "      <td>5</td>\n",
              "      <td>4</td>\n",
              "      <td>289</td>\n",
              "      <td>48.000000</td>\n",
              "      <td>108</td>\n",
              "      <td>172</td>\n",
              "      <td>36</td>\n",
              "    </tr>\n",
              "    <tr>\n",
              "      <th>447</th>\n",
              "      <td>15</td>\n",
              "      <td>6</td>\n",
              "      <td>2</td>\n",
              "      <td>3</td>\n",
              "      <td>291</td>\n",
              "      <td>31.000000</td>\n",
              "      <td>73</td>\n",
              "      <td>171</td>\n",
              "      <td>25</td>\n",
              "    </tr>\n",
              "    <tr>\n",
              "      <th>605</th>\n",
              "      <td>3</td>\n",
              "      <td>2</td>\n",
              "      <td>4</td>\n",
              "      <td>2</td>\n",
              "      <td>179</td>\n",
              "      <td>51.000000</td>\n",
              "      <td>89</td>\n",
              "      <td>170</td>\n",
              "      <td>31</td>\n",
              "    </tr>\n",
              "    <tr>\n",
              "      <th>720</th>\n",
              "      <td>34</td>\n",
              "      <td>6</td>\n",
              "      <td>2</td>\n",
              "      <td>1</td>\n",
              "      <td>118</td>\n",
              "      <td>10.000000</td>\n",
              "      <td>83</td>\n",
              "      <td>172</td>\n",
              "      <td>28</td>\n",
              "    </tr>\n",
              "    <tr>\n",
              "      <th>418</th>\n",
              "      <td>3</td>\n",
              "      <td>4</td>\n",
              "      <td>4</td>\n",
              "      <td>3</td>\n",
              "      <td>179</td>\n",
              "      <td>29.637026</td>\n",
              "      <td>89</td>\n",
              "      <td>170</td>\n",
              "      <td>31</td>\n",
              "    </tr>\n",
              "    <tr>\n",
              "      <th>161</th>\n",
              "      <td>22</td>\n",
              "      <td>3</td>\n",
              "      <td>5</td>\n",
              "      <td>2</td>\n",
              "      <td>179</td>\n",
              "      <td>26.000000</td>\n",
              "      <td>56</td>\n",
              "      <td>171</td>\n",
              "      <td>19</td>\n",
              "    </tr>\n",
              "    <tr>\n",
              "      <th>493</th>\n",
              "      <td>15</td>\n",
              "      <td>8</td>\n",
              "      <td>5</td>\n",
              "      <td>1</td>\n",
              "      <td>291</td>\n",
              "      <td>31.000000</td>\n",
              "      <td>73</td>\n",
              "      <td>171</td>\n",
              "      <td>25</td>\n",
              "    </tr>\n",
              "    <tr>\n",
              "      <th>248</th>\n",
              "      <td>3</td>\n",
              "      <td>7</td>\n",
              "      <td>5</td>\n",
              "      <td>1</td>\n",
              "      <td>179</td>\n",
              "      <td>51.000000</td>\n",
              "      <td>89</td>\n",
              "      <td>170</td>\n",
              "      <td>31</td>\n",
              "    </tr>\n",
              "    <tr>\n",
              "      <th>461</th>\n",
              "      <td>28</td>\n",
              "      <td>7</td>\n",
              "      <td>5</td>\n",
              "      <td>1</td>\n",
              "      <td>225</td>\n",
              "      <td>26.000000</td>\n",
              "      <td>69</td>\n",
              "      <td>169</td>\n",
              "      <td>24</td>\n",
              "    </tr>\n",
              "    <tr>\n",
              "      <th>482</th>\n",
              "      <td>24</td>\n",
              "      <td>8</td>\n",
              "      <td>3</td>\n",
              "      <td>1</td>\n",
              "      <td>246</td>\n",
              "      <td>25.000000</td>\n",
              "      <td>67</td>\n",
              "      <td>170</td>\n",
              "      <td>23</td>\n",
              "    </tr>\n",
              "    <tr>\n",
              "      <th>635</th>\n",
              "      <td>33</td>\n",
              "      <td>3</td>\n",
              "      <td>2</td>\n",
              "      <td>2</td>\n",
              "      <td>248</td>\n",
              "      <td>25.000000</td>\n",
              "      <td>86</td>\n",
              "      <td>165</td>\n",
              "      <td>32</td>\n",
              "    </tr>\n",
              "    <tr>\n",
              "      <th>41</th>\n",
              "      <td>34</td>\n",
              "      <td>9</td>\n",
              "      <td>2</td>\n",
              "      <td>1</td>\n",
              "      <td>118</td>\n",
              "      <td>10.000000</td>\n",
              "      <td>83</td>\n",
              "      <td>172</td>\n",
              "      <td>28</td>\n",
              "    </tr>\n",
              "    <tr>\n",
              "      <th>73</th>\n",
              "      <td>28</td>\n",
              "      <td>10</td>\n",
              "      <td>4</td>\n",
              "      <td>4</td>\n",
              "      <td>225</td>\n",
              "      <td>29.637026</td>\n",
              "      <td>69</td>\n",
              "      <td>169</td>\n",
              "      <td>24</td>\n",
              "    </tr>\n",
              "    <tr>\n",
              "      <th>109</th>\n",
              "      <td>10</td>\n",
              "      <td>12</td>\n",
              "      <td>4</td>\n",
              "      <td>4</td>\n",
              "      <td>361</td>\n",
              "      <td>52.000000</td>\n",
              "      <td>80</td>\n",
              "      <td>172</td>\n",
              "      <td>27</td>\n",
              "    </tr>\n",
              "    <tr>\n",
              "      <th>590</th>\n",
              "      <td>3</td>\n",
              "      <td>2</td>\n",
              "      <td>5</td>\n",
              "      <td>2</td>\n",
              "      <td>179</td>\n",
              "      <td>51.000000</td>\n",
              "      <td>89</td>\n",
              "      <td>170</td>\n",
              "      <td>31</td>\n",
              "    </tr>\n",
              "    <tr>\n",
              "      <th>467</th>\n",
              "      <td>34</td>\n",
              "      <td>7</td>\n",
              "      <td>3</td>\n",
              "      <td>1</td>\n",
              "      <td>118</td>\n",
              "      <td>10.000000</td>\n",
              "      <td>83</td>\n",
              "      <td>172</td>\n",
              "      <td>28</td>\n",
              "    </tr>\n",
              "    <tr>\n",
              "      <th>637</th>\n",
              "      <td>28</td>\n",
              "      <td>3</td>\n",
              "      <td>2</td>\n",
              "      <td>2</td>\n",
              "      <td>225</td>\n",
              "      <td>26.000000</td>\n",
              "      <td>69</td>\n",
              "      <td>169</td>\n",
              "      <td>24</td>\n",
              "    </tr>\n",
              "    <tr>\n",
              "      <th>203</th>\n",
              "      <td>2</td>\n",
              "      <td>4</td>\n",
              "      <td>2</td>\n",
              "      <td>3</td>\n",
              "      <td>235</td>\n",
              "      <td>29.637026</td>\n",
              "      <td>88</td>\n",
              "      <td>163</td>\n",
              "      <td>33</td>\n",
              "    </tr>\n",
              "    <tr>\n",
              "      <th>691</th>\n",
              "      <td>17</td>\n",
              "      <td>5</td>\n",
              "      <td>6</td>\n",
              "      <td>3</td>\n",
              "      <td>179</td>\n",
              "      <td>22.000000</td>\n",
              "      <td>63</td>\n",
              "      <td>170</td>\n",
              "      <td>22</td>\n",
              "    </tr>\n",
              "    <tr>\n",
              "      <th>427</th>\n",
              "      <td>13</td>\n",
              "      <td>5</td>\n",
              "      <td>2</td>\n",
              "      <td>3</td>\n",
              "      <td>369</td>\n",
              "      <td>17.000000</td>\n",
              "      <td>70</td>\n",
              "      <td>169</td>\n",
              "      <td>25</td>\n",
              "    </tr>\n",
              "    <tr>\n",
              "      <th>106</th>\n",
              "      <td>28</td>\n",
              "      <td>12</td>\n",
              "      <td>5</td>\n",
              "      <td>4</td>\n",
              "      <td>225</td>\n",
              "      <td>26.000000</td>\n",
              "      <td>69</td>\n",
              "      <td>169</td>\n",
              "      <td>24</td>\n",
              "    </tr>\n",
              "    <tr>\n",
              "      <th>117</th>\n",
              "      <td>28</td>\n",
              "      <td>1</td>\n",
              "      <td>4</td>\n",
              "      <td>2</td>\n",
              "      <td>225</td>\n",
              "      <td>26.000000</td>\n",
              "      <td>69</td>\n",
              "      <td>169</td>\n",
              "      <td>24</td>\n",
              "    </tr>\n",
              "    <tr>\n",
              "      <th>40</th>\n",
              "      <td>27</td>\n",
              "      <td>9</td>\n",
              "      <td>3</td>\n",
              "      <td>1</td>\n",
              "      <td>184</td>\n",
              "      <td>42.000000</td>\n",
              "      <td>58</td>\n",
              "      <td>167</td>\n",
              "      <td>21</td>\n",
              "    </tr>\n",
              "    <tr>\n",
              "      <th>265</th>\n",
              "      <td>1</td>\n",
              "      <td>8</td>\n",
              "      <td>3</td>\n",
              "      <td>1</td>\n",
              "      <td>235</td>\n",
              "      <td>11.000000</td>\n",
              "      <td>88</td>\n",
              "      <td>172</td>\n",
              "      <td>29</td>\n",
              "    </tr>\n",
              "    <tr>\n",
              "      <th>731</th>\n",
              "      <td>34</td>\n",
              "      <td>7</td>\n",
              "      <td>4</td>\n",
              "      <td>1</td>\n",
              "      <td>118</td>\n",
              "      <td>10.000000</td>\n",
              "      <td>83</td>\n",
              "      <td>172</td>\n",
              "      <td>28</td>\n",
              "    </tr>\n",
              "    <tr>\n",
              "      <th>244</th>\n",
              "      <td>18</td>\n",
              "      <td>7</td>\n",
              "      <td>3</td>\n",
              "      <td>1</td>\n",
              "      <td>330</td>\n",
              "      <td>16.000000</td>\n",
              "      <td>84</td>\n",
              "      <td>182</td>\n",
              "      <td>25</td>\n",
              "    </tr>\n",
              "  </tbody>\n",
              "</table>\n",
              "</div>\n",
              "      <button class=\"colab-df-convert\" onclick=\"convertToInteractive('df-435868b4-8a5e-4bec-93d6-8a86e74ffa8e')\"\n",
              "              title=\"Convert this dataframe to an interactive table.\"\n",
              "              style=\"display:none;\">\n",
              "        \n",
              "  <svg xmlns=\"http://www.w3.org/2000/svg\" height=\"24px\"viewBox=\"0 0 24 24\"\n",
              "       width=\"24px\">\n",
              "    <path d=\"M0 0h24v24H0V0z\" fill=\"none\"/>\n",
              "    <path d=\"M18.56 5.44l.94 2.06.94-2.06 2.06-.94-2.06-.94-.94-2.06-.94 2.06-2.06.94zm-11 1L8.5 8.5l.94-2.06 2.06-.94-2.06-.94L8.5 2.5l-.94 2.06-2.06.94zm10 10l.94 2.06.94-2.06 2.06-.94-2.06-.94-.94-2.06-.94 2.06-2.06.94z\"/><path d=\"M17.41 7.96l-1.37-1.37c-.4-.4-.92-.59-1.43-.59-.52 0-1.04.2-1.43.59L10.3 9.45l-7.72 7.72c-.78.78-.78 2.05 0 2.83L4 21.41c.39.39.9.59 1.41.59.51 0 1.02-.2 1.41-.59l7.78-7.78 2.81-2.81c.8-.78.8-2.07 0-2.86zM5.41 20L4 18.59l7.72-7.72 1.47 1.35L5.41 20z\"/>\n",
              "  </svg>\n",
              "      </button>\n",
              "      \n",
              "  <style>\n",
              "    .colab-df-container {\n",
              "      display:flex;\n",
              "      flex-wrap:wrap;\n",
              "      gap: 12px;\n",
              "    }\n",
              "\n",
              "    .colab-df-convert {\n",
              "      background-color: #E8F0FE;\n",
              "      border: none;\n",
              "      border-radius: 50%;\n",
              "      cursor: pointer;\n",
              "      display: none;\n",
              "      fill: #1967D2;\n",
              "      height: 32px;\n",
              "      padding: 0 0 0 0;\n",
              "      width: 32px;\n",
              "    }\n",
              "\n",
              "    .colab-df-convert:hover {\n",
              "      background-color: #E2EBFA;\n",
              "      box-shadow: 0px 1px 2px rgba(60, 64, 67, 0.3), 0px 1px 3px 1px rgba(60, 64, 67, 0.15);\n",
              "      fill: #174EA6;\n",
              "    }\n",
              "\n",
              "    [theme=dark] .colab-df-convert {\n",
              "      background-color: #3B4455;\n",
              "      fill: #D2E3FC;\n",
              "    }\n",
              "\n",
              "    [theme=dark] .colab-df-convert:hover {\n",
              "      background-color: #434B5C;\n",
              "      box-shadow: 0px 1px 3px 1px rgba(0, 0, 0, 0.15);\n",
              "      filter: drop-shadow(0px 1px 2px rgba(0, 0, 0, 0.3));\n",
              "      fill: #FFFFFF;\n",
              "    }\n",
              "  </style>\n",
              "\n",
              "      <script>\n",
              "        const buttonEl =\n",
              "          document.querySelector('#df-435868b4-8a5e-4bec-93d6-8a86e74ffa8e button.colab-df-convert');\n",
              "        buttonEl.style.display =\n",
              "          google.colab.kernel.accessAllowed ? 'block' : 'none';\n",
              "\n",
              "        async function convertToInteractive(key) {\n",
              "          const element = document.querySelector('#df-435868b4-8a5e-4bec-93d6-8a86e74ffa8e');\n",
              "          const dataTable =\n",
              "            await google.colab.kernel.invokeFunction('convertToInteractive',\n",
              "                                                     [key], {});\n",
              "          if (!dataTable) return;\n",
              "\n",
              "          const docLinkHtml = 'Like what you see? Visit the ' +\n",
              "            '<a target=\"_blank\" href=https://colab.research.google.com/notebooks/data_table.ipynb>data table notebook</a>'\n",
              "            + ' to learn more about interactive tables.';\n",
              "          element.innerHTML = '';\n",
              "          dataTable['output_type'] = 'display_data';\n",
              "          await google.colab.output.renderOutput(dataTable, element);\n",
              "          const docLink = document.createElement('div');\n",
              "          docLink.innerHTML = docLinkHtml;\n",
              "          element.appendChild(docLink);\n",
              "        }\n",
              "      </script>\n",
              "    </div>\n",
              "  </div>\n",
              "  "
            ],
            "text/plain": [
              "     ID  Month of absence  Day of the week  Seasons  Transportation expense  \\\n",
              "569  14                12                3        2                     155   \n",
              "327  34                11                4        4                     118   \n",
              "277  19                 9                3        1                     291   \n",
              "19   33                 8                4        1                     248   \n",
              "423   3                 4                2        3                     179   \n",
              "519  13                10                3        4                     369   \n",
              "48   20                 9                6        1                     260   \n",
              "395   1                 3                2        2                     235   \n",
              "235  28                 6                5        1                     225   \n",
              "598   3                 2                5        2                     179   \n",
              "334  20                11                4        4                     260   \n",
              "513  32                10                5        4                     289   \n",
              "447  15                 6                2        3                     291   \n",
              "605   3                 2                4        2                     179   \n",
              "720  34                 6                2        1                     118   \n",
              "418   3                 4                4        3                     179   \n",
              "161  22                 3                5        2                     179   \n",
              "493  15                 8                5        1                     291   \n",
              "248   3                 7                5        1                     179   \n",
              "461  28                 7                5        1                     225   \n",
              "482  24                 8                3        1                     246   \n",
              "635  33                 3                2        2                     248   \n",
              "41   34                 9                2        1                     118   \n",
              "73   28                10                4        4                     225   \n",
              "109  10                12                4        4                     361   \n",
              "590   3                 2                5        2                     179   \n",
              "467  34                 7                3        1                     118   \n",
              "637  28                 3                2        2                     225   \n",
              "203   2                 4                2        3                     235   \n",
              "691  17                 5                6        3                     179   \n",
              "427  13                 5                2        3                     369   \n",
              "106  28                12                5        4                     225   \n",
              "117  28                 1                4        2                     225   \n",
              "40   27                 9                3        1                     184   \n",
              "265   1                 8                3        1                     235   \n",
              "731  34                 7                4        1                     118   \n",
              "244  18                 7                3        1                     330   \n",
              "\n",
              "     Distance from Residence to College  Weight  Height  Body mass index  \n",
              "569                           12.000000      95     196               25  \n",
              "327                           29.637026      83     172               28  \n",
              "277                           50.000000      65     169               23  \n",
              "19                            25.000000      86     165               32  \n",
              "423                           51.000000      89     170               31  \n",
              "519                           17.000000      70     169               25  \n",
              "48                            50.000000      65     168               23  \n",
              "395                           11.000000      88     172               29  \n",
              "235                           26.000000      69     169               24  \n",
              "598                           51.000000      89     170               31  \n",
              "334                           50.000000      65     168               23  \n",
              "513                           48.000000     108     172               36  \n",
              "447                           31.000000      73     171               25  \n",
              "605                           51.000000      89     170               31  \n",
              "720                           10.000000      83     172               28  \n",
              "418                           29.637026      89     170               31  \n",
              "161                           26.000000      56     171               19  \n",
              "493                           31.000000      73     171               25  \n",
              "248                           51.000000      89     170               31  \n",
              "461                           26.000000      69     169               24  \n",
              "482                           25.000000      67     170               23  \n",
              "635                           25.000000      86     165               32  \n",
              "41                            10.000000      83     172               28  \n",
              "73                            29.637026      69     169               24  \n",
              "109                           52.000000      80     172               27  \n",
              "590                           51.000000      89     170               31  \n",
              "467                           10.000000      83     172               28  \n",
              "637                           26.000000      69     169               24  \n",
              "203                           29.637026      88     163               33  \n",
              "691                           22.000000      63     170               22  \n",
              "427                           17.000000      70     169               25  \n",
              "106                           26.000000      69     169               24  \n",
              "117                           26.000000      69     169               24  \n",
              "40                            42.000000      58     167               21  \n",
              "265                           11.000000      88     172               29  \n",
              "731                           10.000000      83     172               28  \n",
              "244                           16.000000      84     182               25  "
            ]
          },
          "execution_count": 354,
          "metadata": {},
          "output_type": "execute_result"
        }
      ],
      "source": [
        "X_test"
      ]
    },
    {
      "cell_type": "code",
      "execution_count": null,
      "metadata": {
        "colab": {
          "base_uri": "https://localhost:8080/"
        },
        "id": "7UqZ4Jutw9by",
        "outputId": "b207abfd-ebc2-44ca-b6a1-cde875352807"
      },
      "outputs": [
        {
          "data": {
            "text/plain": [
              "569    80\n",
              "327     3\n",
              "277     0\n",
              "19      2\n",
              "423     4\n",
              "519     8\n",
              "48      8\n",
              "395     8\n",
              "235     2\n",
              "598     3\n",
              "334     8\n",
              "513     2\n",
              "447    40\n",
              "605     2\n",
              "720     3\n",
              "418     8\n",
              "161     8\n",
              "493     2\n",
              "248     8\n",
              "461     4\n",
              "482     4\n",
              "635     2\n",
              "41      4\n",
              "73      3\n",
              "109     8\n",
              "590     2\n",
              "467     8\n",
              "637     8\n",
              "203     0\n",
              "691     1\n",
              "427     8\n",
              "106     3\n",
              "117     2\n",
              "40      2\n",
              "265     1\n",
              "731     2\n",
              "244     8\n",
              "Name: Absenteeism time in hours, dtype: int64"
            ]
          },
          "execution_count": 355,
          "metadata": {},
          "output_type": "execute_result"
        }
      ],
      "source": [
        "y_test"
      ]
    },
    {
      "cell_type": "markdown",
      "metadata": {
        "id": "AYTWQmm-tXGV"
      },
      "source": [
        "**Q4. Train the data using LinearRegression**\n"
      ]
    },
    {
      "cell_type": "code",
      "execution_count": null,
      "metadata": {
        "id": "lX5pM_DQzy6Z"
      },
      "outputs": [],
      "source": [
        "def clean_dataset(df):\n",
        "    assert isinstance(df, pd.DataFrame), \"df needs to be a pd.DataFrame\"\n",
        "    df.dropna(inplace=True)\n",
        "    indices_to_keep = ~df.isin([np.nan, np.inf, -np.inf]).any(1)\n",
        "    return df[indices_to_keep].astype(np.float64)\n"
      ]
    },
    {
      "cell_type": "code",
      "execution_count": null,
      "metadata": {
        "colab": {
          "base_uri": "https://localhost:8080/",
          "height": 468
        },
        "id": "TA4ljvnEDzWG",
        "outputId": "47027b58-402b-4c71-87b0-6defa60f22c8"
      },
      "outputs": [
        {
          "data": {
            "text/html": [
              "\n",
              "  <div id=\"df-14ff326d-3e4c-4593-85ad-aae114ca44db\">\n",
              "    <div class=\"colab-df-container\">\n",
              "      <div>\n",
              "<style scoped>\n",
              "    .dataframe tbody tr th:only-of-type {\n",
              "        vertical-align: middle;\n",
              "    }\n",
              "\n",
              "    .dataframe tbody tr th {\n",
              "        vertical-align: top;\n",
              "    }\n",
              "\n",
              "    .dataframe thead th {\n",
              "        text-align: right;\n",
              "    }\n",
              "</style>\n",
              "<table border=\"1\" class=\"dataframe\">\n",
              "  <thead>\n",
              "    <tr style=\"text-align: right;\">\n",
              "      <th></th>\n",
              "      <th>ID</th>\n",
              "      <th>Month of absence</th>\n",
              "      <th>Day of the week</th>\n",
              "      <th>Seasons</th>\n",
              "      <th>Transportation expense</th>\n",
              "      <th>Distance from Residence to College</th>\n",
              "      <th>Weight</th>\n",
              "      <th>Height</th>\n",
              "      <th>Body mass index</th>\n",
              "    </tr>\n",
              "  </thead>\n",
              "  <tbody>\n",
              "    <tr>\n",
              "      <th>0</th>\n",
              "      <td>11</td>\n",
              "      <td>7</td>\n",
              "      <td>3</td>\n",
              "      <td>1</td>\n",
              "      <td>289</td>\n",
              "      <td>36.0</td>\n",
              "      <td>90</td>\n",
              "      <td>172</td>\n",
              "      <td>30</td>\n",
              "    </tr>\n",
              "    <tr>\n",
              "      <th>1</th>\n",
              "      <td>36</td>\n",
              "      <td>7</td>\n",
              "      <td>3</td>\n",
              "      <td>1</td>\n",
              "      <td>118</td>\n",
              "      <td>13.0</td>\n",
              "      <td>98</td>\n",
              "      <td>178</td>\n",
              "      <td>31</td>\n",
              "    </tr>\n",
              "    <tr>\n",
              "      <th>2</th>\n",
              "      <td>3</td>\n",
              "      <td>7</td>\n",
              "      <td>4</td>\n",
              "      <td>1</td>\n",
              "      <td>179</td>\n",
              "      <td>51.0</td>\n",
              "      <td>89</td>\n",
              "      <td>170</td>\n",
              "      <td>31</td>\n",
              "    </tr>\n",
              "    <tr>\n",
              "      <th>3</th>\n",
              "      <td>7</td>\n",
              "      <td>7</td>\n",
              "      <td>5</td>\n",
              "      <td>1</td>\n",
              "      <td>279</td>\n",
              "      <td>5.0</td>\n",
              "      <td>68</td>\n",
              "      <td>168</td>\n",
              "      <td>24</td>\n",
              "    </tr>\n",
              "    <tr>\n",
              "      <th>4</th>\n",
              "      <td>11</td>\n",
              "      <td>7</td>\n",
              "      <td>5</td>\n",
              "      <td>1</td>\n",
              "      <td>289</td>\n",
              "      <td>36.0</td>\n",
              "      <td>90</td>\n",
              "      <td>172</td>\n",
              "      <td>30</td>\n",
              "    </tr>\n",
              "    <tr>\n",
              "      <th>...</th>\n",
              "      <td>...</td>\n",
              "      <td>...</td>\n",
              "      <td>...</td>\n",
              "      <td>...</td>\n",
              "      <td>...</td>\n",
              "      <td>...</td>\n",
              "      <td>...</td>\n",
              "      <td>...</td>\n",
              "      <td>...</td>\n",
              "    </tr>\n",
              "    <tr>\n",
              "      <th>735</th>\n",
              "      <td>11</td>\n",
              "      <td>7</td>\n",
              "      <td>3</td>\n",
              "      <td>1</td>\n",
              "      <td>289</td>\n",
              "      <td>36.0</td>\n",
              "      <td>90</td>\n",
              "      <td>172</td>\n",
              "      <td>30</td>\n",
              "    </tr>\n",
              "    <tr>\n",
              "      <th>736</th>\n",
              "      <td>1</td>\n",
              "      <td>7</td>\n",
              "      <td>3</td>\n",
              "      <td>1</td>\n",
              "      <td>235</td>\n",
              "      <td>11.0</td>\n",
              "      <td>88</td>\n",
              "      <td>172</td>\n",
              "      <td>29</td>\n",
              "    </tr>\n",
              "    <tr>\n",
              "      <th>737</th>\n",
              "      <td>4</td>\n",
              "      <td>0</td>\n",
              "      <td>3</td>\n",
              "      <td>1</td>\n",
              "      <td>118</td>\n",
              "      <td>14.0</td>\n",
              "      <td>98</td>\n",
              "      <td>170</td>\n",
              "      <td>34</td>\n",
              "    </tr>\n",
              "    <tr>\n",
              "      <th>738</th>\n",
              "      <td>8</td>\n",
              "      <td>0</td>\n",
              "      <td>4</td>\n",
              "      <td>2</td>\n",
              "      <td>231</td>\n",
              "      <td>35.0</td>\n",
              "      <td>100</td>\n",
              "      <td>170</td>\n",
              "      <td>35</td>\n",
              "    </tr>\n",
              "    <tr>\n",
              "      <th>739</th>\n",
              "      <td>35</td>\n",
              "      <td>0</td>\n",
              "      <td>6</td>\n",
              "      <td>3</td>\n",
              "      <td>179</td>\n",
              "      <td>45.0</td>\n",
              "      <td>77</td>\n",
              "      <td>175</td>\n",
              "      <td>25</td>\n",
              "    </tr>\n",
              "  </tbody>\n",
              "</table>\n",
              "<p>740 rows × 9 columns</p>\n",
              "</div>\n",
              "      <button class=\"colab-df-convert\" onclick=\"convertToInteractive('df-14ff326d-3e4c-4593-85ad-aae114ca44db')\"\n",
              "              title=\"Convert this dataframe to an interactive table.\"\n",
              "              style=\"display:none;\">\n",
              "        \n",
              "  <svg xmlns=\"http://www.w3.org/2000/svg\" height=\"24px\"viewBox=\"0 0 24 24\"\n",
              "       width=\"24px\">\n",
              "    <path d=\"M0 0h24v24H0V0z\" fill=\"none\"/>\n",
              "    <path d=\"M18.56 5.44l.94 2.06.94-2.06 2.06-.94-2.06-.94-.94-2.06-.94 2.06-2.06.94zm-11 1L8.5 8.5l.94-2.06 2.06-.94-2.06-.94L8.5 2.5l-.94 2.06-2.06.94zm10 10l.94 2.06.94-2.06 2.06-.94-2.06-.94-.94-2.06-.94 2.06-2.06.94z\"/><path d=\"M17.41 7.96l-1.37-1.37c-.4-.4-.92-.59-1.43-.59-.52 0-1.04.2-1.43.59L10.3 9.45l-7.72 7.72c-.78.78-.78 2.05 0 2.83L4 21.41c.39.39.9.59 1.41.59.51 0 1.02-.2 1.41-.59l7.78-7.78 2.81-2.81c.8-.78.8-2.07 0-2.86zM5.41 20L4 18.59l7.72-7.72 1.47 1.35L5.41 20z\"/>\n",
              "  </svg>\n",
              "      </button>\n",
              "      \n",
              "  <style>\n",
              "    .colab-df-container {\n",
              "      display:flex;\n",
              "      flex-wrap:wrap;\n",
              "      gap: 12px;\n",
              "    }\n",
              "\n",
              "    .colab-df-convert {\n",
              "      background-color: #E8F0FE;\n",
              "      border: none;\n",
              "      border-radius: 50%;\n",
              "      cursor: pointer;\n",
              "      display: none;\n",
              "      fill: #1967D2;\n",
              "      height: 32px;\n",
              "      padding: 0 0 0 0;\n",
              "      width: 32px;\n",
              "    }\n",
              "\n",
              "    .colab-df-convert:hover {\n",
              "      background-color: #E2EBFA;\n",
              "      box-shadow: 0px 1px 2px rgba(60, 64, 67, 0.3), 0px 1px 3px 1px rgba(60, 64, 67, 0.15);\n",
              "      fill: #174EA6;\n",
              "    }\n",
              "\n",
              "    [theme=dark] .colab-df-convert {\n",
              "      background-color: #3B4455;\n",
              "      fill: #D2E3FC;\n",
              "    }\n",
              "\n",
              "    [theme=dark] .colab-df-convert:hover {\n",
              "      background-color: #434B5C;\n",
              "      box-shadow: 0px 1px 3px 1px rgba(0, 0, 0, 0.15);\n",
              "      filter: drop-shadow(0px 1px 2px rgba(0, 0, 0, 0.3));\n",
              "      fill: #FFFFFF;\n",
              "    }\n",
              "  </style>\n",
              "\n",
              "      <script>\n",
              "        const buttonEl =\n",
              "          document.querySelector('#df-14ff326d-3e4c-4593-85ad-aae114ca44db button.colab-df-convert');\n",
              "        buttonEl.style.display =\n",
              "          google.colab.kernel.accessAllowed ? 'block' : 'none';\n",
              "\n",
              "        async function convertToInteractive(key) {\n",
              "          const element = document.querySelector('#df-14ff326d-3e4c-4593-85ad-aae114ca44db');\n",
              "          const dataTable =\n",
              "            await google.colab.kernel.invokeFunction('convertToInteractive',\n",
              "                                                     [key], {});\n",
              "          if (!dataTable) return;\n",
              "\n",
              "          const docLinkHtml = 'Like what you see? Visit the ' +\n",
              "            '<a target=\"_blank\" href=https://colab.research.google.com/notebooks/data_table.ipynb>data table notebook</a>'\n",
              "            + ' to learn more about interactive tables.';\n",
              "          element.innerHTML = '';\n",
              "          dataTable['output_type'] = 'display_data';\n",
              "          await google.colab.output.renderOutput(dataTable, element);\n",
              "          const docLink = document.createElement('div');\n",
              "          docLink.innerHTML = docLinkHtml;\n",
              "          element.appendChild(docLink);\n",
              "        }\n",
              "      </script>\n",
              "    </div>\n",
              "  </div>\n",
              "  "
            ],
            "text/plain": [
              "     ID  Month of absence  Day of the week  Seasons  Transportation expense  \\\n",
              "0    11                 7                3        1                     289   \n",
              "1    36                 7                3        1                     118   \n",
              "2     3                 7                4        1                     179   \n",
              "3     7                 7                5        1                     279   \n",
              "4    11                 7                5        1                     289   \n",
              "..   ..               ...              ...      ...                     ...   \n",
              "735  11                 7                3        1                     289   \n",
              "736   1                 7                3        1                     235   \n",
              "737   4                 0                3        1                     118   \n",
              "738   8                 0                4        2                     231   \n",
              "739  35                 0                6        3                     179   \n",
              "\n",
              "     Distance from Residence to College  Weight  Height  Body mass index  \n",
              "0                                  36.0      90     172               30  \n",
              "1                                  13.0      98     178               31  \n",
              "2                                  51.0      89     170               31  \n",
              "3                                   5.0      68     168               24  \n",
              "4                                  36.0      90     172               30  \n",
              "..                                  ...     ...     ...              ...  \n",
              "735                                36.0      90     172               30  \n",
              "736                                11.0      88     172               29  \n",
              "737                                14.0      98     170               34  \n",
              "738                                35.0     100     170               35  \n",
              "739                                45.0      77     175               25  \n",
              "\n",
              "[740 rows x 9 columns]"
            ]
          },
          "execution_count": 357,
          "metadata": {},
          "output_type": "execute_result"
        }
      ],
      "source": [
        "X"
      ]
    },
    {
      "cell_type": "code",
      "execution_count": null,
      "metadata": {
        "colab": {
          "base_uri": "https://localhost:8080/"
        },
        "id": "wwMWCDVYEjAv",
        "outputId": "4e4daf43-21f5-4949-d8ca-0baa529d5835"
      },
      "outputs": [
        {
          "data": {
            "text/plain": [
              "False    703\n",
              "Name: Distance from Residence to College, dtype: int64"
            ]
          },
          "execution_count": 358,
          "metadata": {},
          "output_type": "execute_result"
        }
      ],
      "source": [
        "X_train[\"Distance from Residence to College\"].isnull().value_counts()\n"
      ]
    },
    {
      "cell_type": "code",
      "execution_count": null,
      "metadata": {
        "colab": {
          "base_uri": "https://localhost:8080/"
        },
        "id": "dSkFmV4HEwk2",
        "outputId": "c2968a03-6d26-48e9-8911-bd8afd00b391"
      },
      "outputs": [
        {
          "data": {
            "text/plain": [
              "False    703\n",
              "Name: Absenteeism time in hours, dtype: int64"
            ]
          },
          "execution_count": 359,
          "metadata": {},
          "output_type": "execute_result"
        }
      ],
      "source": [
        "y_train.isnull().value_counts()"
      ]
    },
    {
      "cell_type": "code",
      "execution_count": null,
      "metadata": {
        "colab": {
          "base_uri": "https://localhost:8080/",
          "height": 473
        },
        "id": "yEVTMhI_td5p",
        "outputId": "088cdacf-9f46-456c-b8ac-1e6e41dc064b"
      },
      "outputs": [
        {
          "name": "stdout",
          "output_type": "stream",
          "text": [
            "52.08007870154847\n",
            "[-0.06619952  0.07103221 -1.03976037 -0.11717281  0.00960683 -0.06488413\n",
            "  0.46096004 -0.21612713 -1.48064311]\n"
          ]
        },
        {
          "data": {
            "text/plain": [
              "[<matplotlib.lines.Line2D at 0x7f45f988bf10>,\n",
              " <matplotlib.lines.Line2D at 0x7f45f98cc050>,\n",
              " <matplotlib.lines.Line2D at 0x7f45f9896150>,\n",
              " <matplotlib.lines.Line2D at 0x7f45f9896350>,\n",
              " <matplotlib.lines.Line2D at 0x7f45f9896510>,\n",
              " <matplotlib.lines.Line2D at 0x7f45f9896690>,\n",
              " <matplotlib.lines.Line2D at 0x7f45f98968d0>,\n",
              " <matplotlib.lines.Line2D at 0x7f45f9896a90>,\n",
              " <matplotlib.lines.Line2D at 0x7f45f9896c50>]"
            ]
          },
          "execution_count": 360,
          "metadata": {},
          "output_type": "execute_result"
        },
        {
          "data": {
            "image/png": "[encoded data removed]",
            "text/plain": [
              "<Figure size 432x288 with 1 Axes>"
            ]
          },
          "metadata": {
            "needs_background": "light"
          },
          "output_type": "display_data"
        }
      ],
      "source": [
        "from sklearn.linear_model import LinearRegression\n",
        "# Initialize a linear regression model object\n",
        "lr = LinearRegression() \n",
        "# Fit the linear regression model object to our data\n",
        "lr.fit(X_train, y_train)\n",
        "# Print the intercept and the slope of the model\n",
        "print(lr.intercept_) \n",
        "print(lr.coef_) \n",
        "# Show line of best fit\n",
        "plt.plot(X_train, lr.coef_*X_train + lr.intercept_, '-r', label='Intercept: -39,163 \\nSlope: 279.4')"
      ]
    },
    {
      "cell_type": "code",
      "execution_count": null,
      "metadata": {
        "id": "rjOn-6q_teWT"
      },
      "outputs": [],
      "source": [
        "y_pred=lr.predict(X_test)\n",
        " #Find the test values as predicted by the model and save it in a variable called y_pred"
      ]
    },
    {
      "cell_type": "markdown",
      "metadata": {
        "id": "LauGrrPFtXFM"
      },
      "source": [
        "**Q5.Find the R2_Score of the model using sklearn**"
      ]
    },
    {
      "cell_type": "code",
      "execution_count": null,
      "metadata": {
        "colab": {
          "base_uri": "https://localhost:8080/"
        },
        "id": "je3LfAwotl5s",
        "outputId": "1614fa3d-eb1d-4b71-85cf-ac3fbcb66c93"
      },
      "outputs": [
        {
          "name": "stdout",
          "output_type": "stream",
          "text": [
            "r2 score for a model which predicts mean value always is 0.16245748154694206\n"
          ]
        }
      ],
      "source": [
        "from sklearn.metrics import r2_score\n",
        "r2 = r2_score(y_test, y_pred)\n",
        "print('r2 score for a model which predicts mean value always is', r2)"
      ]
    },
    {
      "cell_type": "markdown",
      "metadata": {
        "id": "ugcbg3vutmTL"
      },
      "source": [
        "How can we check our model's performance using the R2_score? Is there any way by which we could improve our model?"
      ]
    },
    {
      "cell_type": "markdown",
      "metadata": {
        "id": "zYXyZAWe22ao"
      },
      "source": [
        "R2_score is used to evaluate the performance of a linear regression model. It is the amount of the variation in the output dependent attribute which is predictable from the input independent variable(s). It is used to check how well-observed results are reproduced by the model, depending on the ratio of total deviation of results described by the model.\n",
        "Formula:R2= 1- SSres / SStot\n",
        "\n",
        "Performance improve of model canbe done by:\n",
        "Handling Null/Missing Values.\n",
        "Data Visualization.\n",
        "Feature Selection and Scaling.\n",
        "-Feature Engineering.\n",
        "-Feature Transformation.\n",
        "Use of Ensemble and Boosting Algorithms.\n",
        "Hyperparameter Tuning"
      ]
    }
  ],
  "metadata": {
    "colab": {
      "collapsed_sections": [],
      "provenance": []
    },
    "kernelspec": {
      "display_name": "Python 3.10.4 ('pytorch')",
      "language": "python",
      "name": "python3"
    },
    "language_info": {
      "codemirror_mode": {
        "name": "ipython",
        "version": 3
      },
      "file_extension": ".py",
      "mimetype": "text/x-python",
      "name": "python",
      "nbconvert_exporter": "python",
      "pygments_lexer": "ipython3",
      "version": "3.10.4"
    },
    "vscode": {
      "interpreter": {
        "hash": "4e8439e14a3c9d40e89aa31be7be8fe13eecb504fa234901bb42ac4ca6122099"
      }
    }
  },
  "nbformat": 4,
  "nbformat_minor": 0
}
